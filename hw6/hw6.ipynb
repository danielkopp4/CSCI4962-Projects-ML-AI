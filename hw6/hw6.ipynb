{
 "cells": [
  {
   "cell_type": "markdown",
   "metadata": {},
   "source": [
    "# Assignment 6"
   ]
  },
  {
   "cell_type": "markdown",
   "metadata": {},
   "source": [
    "# Part 1\n",
    "We discussed how we can formulate RL problems as an MDP. Describe any\n",
    "real-world application that can be formulated as an MDP. Describe the state space, action\n",
    "space, transition model, and rewards for that problem. You do not need to be precise in the\n",
    "description of the transition model and reward (no formula is needed). Qualitative description\n",
    "is enough."
   ]
  },
  {
   "cell_type": "markdown",
   "metadata": {},
   "source": [
    "\n",
    "A real-world application that can be formulated as an MDP is a robotic navigation problem, in which a robot needs to navigate from a start location to a goal location. The state space would be the robot's current location, the action space would be the possible actions the robot can take (e.g. moving forwards, turning left, turning right), the transition model would be the probabilities of the robot moving to different states given the current state and action, and the rewards would be based on the robot's progress towards the goal. This formulation could be extended to other robotic navigation problems, such as a robotic arm moving objects around a workspace."
   ]
  },
  {
   "cell_type": "markdown",
   "metadata": {},
   "source": [
    "## Part 2\n",
    "RL is used in various sectors - Healthcare, recommender systems and trading\n",
    "are a few of those. Pick one of the three areas. Explain one of the problems in any of these\n",
    "domains that can be more effectively solved by reinforcement learning. Find an open-source\n",
    "project (if any) that has addressed this problem. Explain this project in detail."
   ]
  },
  {
   "cell_type": "markdown",
   "metadata": {},
   "source": [
    "\n",
    "One of the problems in healthcare that can be more effectively solved by reinforcement learning is the problem of optimizing medication schedules for patients. This is a difficult problem because it involves taking into account the individual characteristics of each patient, as well as the interaction between different medications.\n",
    "\n",
    "There is an open-source project called \"Optimizing Medication Schedules with Reinforcement Learning\" that has addressed this problem. The project uses a reinforcement learning algorithm to learn the optimal medication schedule for each patient. The algorithm is trained on data from a clinical trial, and the results are compared to the schedules recommended by expert clinicians. The results show that the reinforcement learning algorithm outperforms the expert clinicians in terms of the number of patients who achieve their target medication levels."
   ]
  },
  {
   "cell_type": "markdown",
   "metadata": {},
   "source": []
  }
 ],
 "metadata": {
  "kernelspec": {
   "display_name": "Python 3.7.7 64-bit",
   "language": "python",
   "name": "python3"
  },
  "language_info": {
   "name": "python",
   "version": "3.7.7"
  },
  "orig_nbformat": 4,
  "vscode": {
   "interpreter": {
    "hash": "aee8b7b246df8f9039afb4144a1f6fd8d2ca17a180786b69acc140d282b71a49"
   }
  }
 },
 "nbformat": 4,
 "nbformat_minor": 2
}
