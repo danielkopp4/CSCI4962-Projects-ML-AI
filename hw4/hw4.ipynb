{
 "cells": [
  {
   "cell_type": "markdown",
   "metadata": {},
   "source": [
    "In your project, you will pick a dataset (time-series) and an associated problem that can be\n",
    "solved via sequence models. You must describe why you need sequence models to solve this\n",
    "problem. Include a link to the dataset source. Next, you should pick an RNN framework that you\n",
    "would use to solve this problem (This framework can be in TensorFlow, PyTorch or any other\n",
    "Python Package). "
   ]
  },
  {
   "cell_type": "markdown",
   "metadata": {},
   "source": [
    "I used the famous Shakespeare's plays dataset containing Shakespeare's works (https://www.kaggle.com/datasets/kingburrito666/shakespeare-plays?resource=download, only the txt file). Only sequence models would work on this dataset as its text and it requires positional awareness to predict the next token."
   ]
  },
  {
   "cell_type": "code",
   "execution_count": 36,
   "metadata": {},
   "outputs": [],
   "source": [
    "import tensorflow as tf\n",
    "import numpy as np\n",
    "from tensorflow.keras.layers import SimpleRNN, Dense, Embedding, LSTM, GRU\n",
    "from tensorflow.keras import Sequential\n",
    "from typing import List\n",
    "import matplotlib.pyplot as plt"
   ]
  },
  {
   "cell_type": "code",
   "execution_count": 45,
   "metadata": {},
   "outputs": [
    {
     "name": "stdout",
     "output_type": "stream",
     "text": [
      "number of unique tokens: 8643\n",
      "random line of data: 'see riot and dishonour stain the brow'\n",
      "tokenized version: [322, 369, 30, 370, 371, 16, 372, 0]\n",
      "reconstructed version from tokens: 'see riot and dishonour stain the brow '\n"
     ]
    }
   ],
   "source": [
    "# upon inspecting the data it is evident that there are many kinds of punctuation\n",
    "# we would like a word like \"hi!\"\" to equal tokens of \"hi\" + \"!\" rather\n",
    "# than having \"hi\" \"hi!\" be completely different tokens\n",
    "# such is the case for all other punctuation\n",
    "# one punctuating character that appears specific to these works \n",
    "# is \"--\" which has been added to the special punctuation characters \n",
    "\n",
    "\n",
    "# returns to_add_tokens, word without punctuation\n",
    "punctuation = [\",\", \".\", \"!\", \":\", \";\", \")\", \"]\", \"--\", \"(\", \"[\"]\n",
    "def account_for_punct(word):\n",
    "    to_add_tokens = []\n",
    "    # check for (, only character that occurs at the beginning\n",
    "    # others will be at the end\n",
    "\n",
    "    # if these are the only characters do not check for suffix punctuation\n",
    "    if word == \"[\" or word == \"(\":\n",
    "        return [punctuation.index(word) + 2], \"\"\n",
    "\n",
    "    if \"(\" == word[0] or \"[\" == word[0]:\n",
    "        to_add_tokens.append(punctuation.index(\"(\") + 2)\n",
    "        word = word[1:]\n",
    "\n",
    "\n",
    "    # check for end of character punctuation\n",
    "    end_char = word[-1]\n",
    "    if end_char in punctuation:\n",
    "        to_add_tokens.append(punctuation.index(end_char) + 2)\n",
    "        word = word[:-1]\n",
    "\n",
    "    return to_add_tokens, word\n",
    "\n",
    "    \n",
    "\n",
    "# takes in raw text as array of strings\n",
    "def get_token_mappings(inpt: List[str]):\n",
    "    counter = 2 + len(punctuation) # reserved for punctuation\n",
    "    str_to_token = {\"\\n\" : 0, \"\": 1} \n",
    "    token_to_str = {0: \"\\n\", 1: \"\"}\n",
    "\n",
    "    # add the punctuation in\n",
    "    for i, punct in enumerate(punctuation):\n",
    "        token_to_str[i + 2] = punct\n",
    "        str_to_token[punct] = i + 2\n",
    "\n",
    "    # go line by line and add newline char to end of token input\n",
    "    tokenized = []\n",
    "    for line in inpt:\n",
    "        # remove \" character\n",
    "        line = line.replace('\"', \"\").replace(\"\\n\", \"\").lower()\n",
    "        # word based tokenization\n",
    "        words = line.split(\" \")\n",
    "\n",
    "        for word in words:\n",
    "            # skip token\n",
    "            if word == \"\":\n",
    "                tokenized.append(1)\n",
    "                continue\n",
    "\n",
    "            # process punctuation, gets added before word\n",
    "            # likely not the best strategy but should suffice\n",
    "            # for this use case\n",
    "            to_add_tokens, word = account_for_punct(word)\n",
    "            for token in to_add_tokens:\n",
    "                tokenized.append(token)\n",
    "\n",
    "            # add word if not in vocab\n",
    "            if word not in str_to_token:\n",
    "                str_to_token[word] = counter\n",
    "                token_to_str[counter] = word\n",
    "                counter += 1\n",
    "\n",
    "            # tokenize processed word\n",
    "            tokenized.append(str_to_token[word])\n",
    "\n",
    "        # add newline token\n",
    "        tokenized.append(0)\n",
    "\n",
    "    # convert to np array \n",
    "    tokenized = np.array(tokenized).reshape(len(tokenized), 1)\n",
    "    return str_to_token, token_to_str, counter, tokenized\n",
    "\n",
    "def tokenize(str_to_token, string):\n",
    "    tokenized = []\n",
    "    for line in string.split(\"\\n\"):\n",
    "        line = line.replace('\"', \"\").replace(\"\\n\", \"\").lower()\n",
    "        words = line.split(\" \")\n",
    "        for word in words:\n",
    "            if word == \"\":\n",
    "                tokenized.append(1)\n",
    "                continue\n",
    "\n",
    "            to_add_tokens, word = account_for_punct(word)\n",
    "            for token in to_add_tokens:\n",
    "                tokenized.append(token)\n",
    "\n",
    "            tokenized.append(str_to_token[word])\n",
    "\n",
    "        tokenized.append(0)\n",
    "\n",
    "    return np.array(tokenized).reshape(len(tokenized), 1)\n",
    "\n",
    "\n",
    "def lookup(token_to_str, tokens):\n",
    "    if type(tokens) == np.ndarray:\n",
    "        tokens = tokens.flatten()\n",
    "\n",
    "    string = []\n",
    "\n",
    "    prev_punct = None\n",
    "\n",
    "    for token in tokens:\n",
    "        if token == 0:\n",
    "            string.append(\"\\n\")\n",
    "        elif token == 1:\n",
    "            string.append(\"\")\n",
    "        elif token < 2 + len(punctuation):\n",
    "            punct = punctuation[token - 2]\n",
    "            if not prev_punct:\n",
    "                prev_punct = punct\n",
    "            else:\n",
    "                if type(prev_punct) == list:\n",
    "                    prev_punct = prev_punct[0]\n",
    "                    \n",
    "                prev_punct = [prev_punct, punct]\n",
    "        else:\n",
    "            word = token_to_str[token]\n",
    "            if prev_punct:\n",
    "                if type(prev_punct) == list:\n",
    "                    word = prev_punct[0] + word + prev_punct[1]\n",
    "                elif prev_punct == \"[\" or prev_punct == \"(\":\n",
    "                    word = prev_punct + word\n",
    "                else:\n",
    "                    word = word + prev_punct\n",
    "\n",
    "                prev_punct = None\n",
    "            string.append(word)\n",
    "\n",
    "    return \" \".join(string)\n",
    "            \n",
    "\n",
    "with open(\"alllines.txt\") as file:\n",
    "    data = file.readlines()\n",
    "data = data[:10000]\n",
    "\n",
    "str_to_token, token_to_str, n_tokens, tokenized = get_token_mappings(data)\n",
    "print(f\"number of unique tokens: {n_tokens}\")\n",
    "random_line_number = int(np.random.rand() * len(data))\n",
    "random_line = data[random_line_number].replace('\"', \"\").replace(\"\\n\", \"\").lower()\n",
    "print(f\"random line of data: '{random_line}'\")\n",
    "print(f\"tokenized version: {tokenize(str_to_token, random_line)}\")\n",
    "reconstructed = lookup(token_to_str, tokenize(str_to_token, random_line)).replace(\"\\n\", \"\")\n",
    "print(f\"reconstructed version from tokens: '{reconstructed}'\")"
   ]
  },
  {
   "cell_type": "code",
   "execution_count": 22,
   "metadata": {},
   "outputs": [],
   "source": [
    "def one_hot_encode_tokens(token_data, n_tokens):\n",
    "    output = np.zeros((len(token_data), n_tokens))\n",
    "    for i, token in enumerate(token_data):\n",
    "        output[i][token] = 1\n",
    "\n",
    "    return output\n",
    "\n",
    "def reverse_one_hot_encode(one_hot_encoded):\n",
    "    tokens = []\n",
    "    for one_hot in one_hot_encoded:\n",
    "        tokens.append(np.argmax(one_hot))\n",
    "    return tokens"
   ]
  },
  {
   "cell_type": "code",
   "execution_count": 83,
   "metadata": {},
   "outputs": [],
   "source": [
    "split = 0.8\n",
    "split_index = int(len(tokenized) * split)\n",
    "data_train = tokenized[:split_index]\n",
    "data_test = tokenized[split_index:]\n",
    "\n",
    "data_train = data_train[:-1], one_hot_encode_tokens(data_train[1:], n_tokens) # y is shifted 1 over\n",
    "data_test = data_test[:-1], one_hot_encode_tokens(data_test[1:], n_tokens)"
   ]
  },
  {
   "cell_type": "markdown",
   "metadata": {},
   "source": [
    "## Task 1 (60 points):"
   ]
  },
  {
   "cell_type": "markdown",
   "metadata": {},
   "source": [
    "### Part 1 (30 points): \n",
    "Implement your RNN either using an existing framework OR you can\n",
    "implement your own RNN cell structure. In either case, describe the structure of your\n",
    "RNN and the activation functions you are using for each time step and in the output\n",
    "layer. Define a metric you will use to measure the performance of your model (NOTE:\n",
    "Performance should be measured both for the validation set and the test set)."
   ]
  },
  {
   "cell_type": "code",
   "execution_count": 84,
   "metadata": {},
   "outputs": [
    {
     "name": "stdout",
     "output_type": "stream",
     "text": [
      "Model: \"sequential_8\"\n",
      "_________________________________________________________________\n",
      " Layer (type)                Output Shape              Param #   \n",
      "=================================================================\n",
      " embedding_6 (Embedding)     (None, 1, 64)             553152    \n",
      "                                                                 \n",
      " simple_rnn_18 (SimpleRNN)   (None, 1, 64)             8256      \n",
      "                                                                 \n",
      " simple_rnn_19 (SimpleRNN)   (None, 1, 128)            24704     \n",
      "                                                                 \n",
      " simple_rnn_20 (SimpleRNN)   (None, 512)               328192    \n",
      "                                                                 \n",
      " dense_8 (Dense)             (None, 8643)              4433859   \n",
      "                                                                 \n",
      "=================================================================\n",
      "Total params: 5,348,163\n",
      "Trainable params: 5,348,163\n",
      "Non-trainable params: 0\n",
      "_________________________________________________________________\n"
     ]
    }
   ],
   "source": [
    "units = [64, 64, 128, 512]\n",
    "\n",
    "model = Sequential([\n",
    "    Embedding(n_tokens, input_length=1, output_dim=units[0]),\n",
    "    SimpleRNN(units[1], activation=\"relu\", kernel_initializer=\"he_uniform\", return_sequences=True),\n",
    "    SimpleRNN(units[2], activation=\"relu\", kernel_initializer=\"he_uniform\", return_sequences=True),\n",
    "    SimpleRNN(units[3], activation=\"relu\", kernel_initializer=\"he_uniform\"),\n",
    "    Dense(n_tokens, activation=\"softmax\", kernel_initializer=\"glorot_uniform\")\n",
    "])\n",
    "\n",
    "model.summary()\n",
    "model.compile(optimizer='adam', loss='categorical_crossentropy')"
   ]
  },
  {
   "cell_type": "code",
   "execution_count": 88,
   "metadata": {},
   "outputs": [
    {
     "name": "stdout",
     "output_type": "stream",
     "text": [
      "Epoch 1/2\n",
      "2494/2494 [==============================] - 105s 42ms/step - loss: 5.8809 - val_loss: 5.7368\n",
      "Epoch 2/2\n",
      "2494/2494 [==============================] - 85s 34ms/step - loss: 5.3172 - val_loss: 5.7641\n"
     ]
    }
   ],
   "source": [
    "history = model.fit(*data_train, validation_data=data_test, epochs=2)"
   ]
  },
  {
   "cell_type": "code",
   "execution_count": 89,
   "metadata": {},
   "outputs": [
    {
     "data": {
      "text/plain": [
       "[<matplotlib.lines.Line2D at 0x7fc5b4229b10>]"
      ]
     },
     "execution_count": 89,
     "metadata": {},
     "output_type": "execute_result"
    },
    {
     "data": {
      "image/png": "[encoded data removed]",
      "text/plain": [
       "<Figure size 432x288 with 1 Axes>"
      ]
     },
     "metadata": {
      "needs_background": "light"
     },
     "output_type": "display_data"
    }
   ],
   "source": [
    "plt.plot(history.history['loss'])\n",
    "plt.plot(history.history['val_loss'])"
   ]
  },
  {
   "cell_type": "code",
   "execution_count": 90,
   "metadata": {},
   "outputs": [
    {
     "name": "stdout",
     "output_type": "stream",
     "text": [
      "text input: and bootless 'tis to tell you we will go: \n",
      " therefore we meet not now. then let me hear \n",
      " of you, my gentle cousin westmoreland, \n",
      " what yesternight our council did decree \n",
      " in forwarding this dear expedience. \n",
      " my liege, this haste was hot in question, \n",
      " and many limits of the charge set down \n",
      " but yesternight: when all athwart there came \n",
      " a post from wales loaden with heavy news, \n",
      " whose worst was, that the noble mortimer, \n",
      " leading the men of herefordshire to \n",
      "\n",
      "predicted for each word:\n"
     ]
    },
    {
     "data": {
      "text/plain": [
       "',the, ,be, me \\n \\n ,me, \\n me, \\n \\n ,lord, \\n ,lord, \\n \\n \\n \\n ,the, \\n ,me, \\n ,lord, \\n \\n ,the, lord \\n \\n \\n \\n \\n ,me, \\n i \\n \\n is \\n \\n ,the, \\n \\n the lord, \\n ,lord, ,lord, \\n \\n \\n \\n ,the,'"
      ]
     },
     "execution_count": 90,
     "metadata": {},
     "output_type": "execute_result"
    }
   ],
   "source": [
    "one_hot_pred = model(data_train[0][300:400])\n",
    "tokens = reverse_one_hot_encode(one_hot_pred)\n",
    "print(\"text input:\", lookup(token_to_str, data_train[0][300:400].flatten()), \"\\n\\npredicted for each word:\")\n",
    "lookup(token_to_str, tokens)"
   ]
  },
  {
   "cell_type": "markdown",
   "metadata": {},
   "source": [
    "### Part 2 (35 points): \n",
    "Update your network from part 1 with first an LSTM and then a GRU\n",
    "based cell structure (You can treat both as 2 separate implementations). Re-do the\n",
    "training and performance evaluation. What are the major differences you notice? Why\n",
    "do you think those differences exist between the 3 implementations (basic RNN, LSTM\n",
    "and GRU)?\n",
    "Note: In part 1 and 2, you must perform sufficient data-visualization, pre-processing\n",
    "and/or feature-engineering if needed. The overall performance visualization of the loss\n",
    "function should also be provided.\n"
   ]
  },
  {
   "cell_type": "markdown",
   "metadata": {},
   "source": [
    "#### LSTM"
   ]
  },
  {
   "cell_type": "code",
   "execution_count": 64,
   "metadata": {},
   "outputs": [
    {
     "name": "stdout",
     "output_type": "stream",
     "text": [
      "Model: \"sequential_6\"\n",
      "_________________________________________________________________\n",
      " Layer (type)                Output Shape              Param #   \n",
      "=================================================================\n",
      " embedding_4 (Embedding)     (None, None, 64)          553152    \n",
      "                                                                 \n",
      " lstm (LSTM)                 (None, None, 64)          33024     \n",
      "                                                                 \n",
      " lstm_1 (LSTM)               (None, None, 128)         98816     \n",
      "                                                                 \n",
      " lstm_2 (LSTM)               (None, 512)               1312768   \n",
      "                                                                 \n",
      " dense_6 (Dense)             (None, 8643)              4433859   \n",
      "                                                                 \n",
      "=================================================================\n",
      "Total params: 6,431,619\n",
      "Trainable params: 6,431,619\n",
      "Non-trainable params: 0\n",
      "_________________________________________________________________\n"
     ]
    }
   ],
   "source": [
    "units = [64, 64, 128, 512]\n",
    "\n",
    "model = Sequential([\n",
    "    Embedding(n_tokens, output_dim=units[0]),\n",
    "    LSTM(units[1], activation=\"relu\", kernel_initializer=\"he_uniform\", return_sequences=True),\n",
    "    LSTM(units[2], activation=\"relu\", kernel_initializer=\"he_uniform\", return_sequences=True),\n",
    "    LSTM(units[3], activation=\"relu\", kernel_initializer=\"he_uniform\"),\n",
    "    Dense(n_tokens, activation=\"softmax\", kernel_initializer=\"glorot_uniform\")\n",
    "])\n",
    "\n",
    "model.summary()\n",
    "model.compile(optimizer='adam', loss='categorical_crossentropy')"
   ]
  },
  {
   "cell_type": "code",
   "execution_count": 65,
   "metadata": {},
   "outputs": [
    {
     "name": "stdout",
     "output_type": "stream",
     "text": [
      "3118/3118 [==============================] - 151s 47ms/step - loss: 6.0431\n"
     ]
    },
    {
     "data": {
      "text/plain": [
       "<keras.callbacks.History at 0x7fc5a4afe650>"
      ]
     },
     "execution_count": 65,
     "metadata": {},
     "output_type": "execute_result"
    }
   ],
   "source": [
    "history = model.fit(*data_train, validation_data=data_test, epochs=2)"
   ]
  },
  {
   "cell_type": "code",
   "execution_count": null,
   "metadata": {},
   "outputs": [],
   "source": [
    "plt.plot(history.history['loss'])\n",
    "plt.plot(history.history['val_loss'])"
   ]
  },
  {
   "cell_type": "code",
   "execution_count": null,
   "metadata": {},
   "outputs": [],
   "source": [
    "one_hot_pred = model(data_train[0][300:400])\n",
    "tokens = reverse_one_hot_encode(one_hot_pred)\n",
    "print(\"text input:\", lookup(token_to_str, data_train[0][300:400].flatten()), \"\\n\\npredicted for each word:\")\n",
    "lookup(token_to_str, tokens)"
   ]
  },
  {
   "cell_type": "markdown",
   "metadata": {},
   "source": [
    "#### GRU"
   ]
  },
  {
   "cell_type": "code",
   "execution_count": 67,
   "metadata": {},
   "outputs": [
    {
     "name": "stdout",
     "output_type": "stream",
     "text": [
      "Model: \"sequential_7\"\n",
      "_________________________________________________________________\n",
      " Layer (type)                Output Shape              Param #   \n",
      "=================================================================\n",
      " embedding_5 (Embedding)     (None, None, 64)          553152    \n",
      "                                                                 \n",
      " gru (GRU)                   (None, None, 64)          24960     \n",
      "                                                                 \n",
      " gru_1 (GRU)                 (None, None, 128)         74496     \n",
      "                                                                 \n",
      " gru_2 (GRU)                 (None, 512)               986112    \n",
      "                                                                 \n",
      " dense_7 (Dense)             (None, 8643)              4433859   \n",
      "                                                                 \n",
      "=================================================================\n",
      "Total params: 6,072,579\n",
      "Trainable params: 6,072,579\n",
      "Non-trainable params: 0\n",
      "_________________________________________________________________\n"
     ]
    }
   ],
   "source": [
    "units = [64, 64, 128, 512]\n",
    "\n",
    "model = Sequential([\n",
    "    Embedding(n_tokens, output_dim=units[0]),\n",
    "    GRU(units[1], activation=\"relu\", kernel_initializer=\"he_uniform\", return_sequences=True),\n",
    "    GRU(units[2], activation=\"relu\", kernel_initializer=\"he_uniform\", return_sequences=True),\n",
    "    GRU(units[3], activation=\"relu\", kernel_initializer=\"he_uniform\"),\n",
    "    Dense(n_tokens, activation=\"softmax\", kernel_initializer=\"glorot_uniform\")\n",
    "])\n",
    "\n",
    "model.summary()\n",
    "model.compile(optimizer='adam', loss='categorical_crossentropy')"
   ]
  },
  {
   "cell_type": "code",
   "execution_count": 68,
   "metadata": {},
   "outputs": [
    {
     "name": "stdout",
     "output_type": "stream",
     "text": [
      "3118/3118 [==============================] - 133s 42ms/step - loss: 5.9439\n"
     ]
    },
    {
     "data": {
      "text/plain": [
       "<keras.callbacks.History at 0x7fc5a6e727d0>"
      ]
     },
     "execution_count": 68,
     "metadata": {},
     "output_type": "execute_result"
    }
   ],
   "source": [
    "history = model.fit(*data_train, validation_data=data_test, epochs=2)"
   ]
  },
  {
   "cell_type": "code",
   "execution_count": null,
   "metadata": {},
   "outputs": [],
   "source": [
    "plt.plot(history.history['loss'])\n",
    "plt.plot(history.history['val_loss'])"
   ]
  },
  {
   "cell_type": "code",
   "execution_count": null,
   "metadata": {},
   "outputs": [],
   "source": [
    "one_hot_pred = model(data_train[0][300:400])\n",
    "tokens = reverse_one_hot_encode(one_hot_pred)\n",
    "print(\"text input:\", lookup(token_to_str, data_train[0][300:400].flatten()), \"\\n\\npredicted for each word:\")\n",
    "lookup(token_to_str, tokens)"
   ]
  },
  {
   "cell_type": "markdown",
   "metadata": {},
   "source": [
    "### Part 3 (10 points): \n",
    "Can you use the traditional feed-forward network to solve the same\n",
    "problem. Why or why not? (Hint: Can time series data be converted to usual features\n",
    "that can be used as input to a feed-forward network?)"
   ]
  },
  {
   "cell_type": "markdown",
   "metadata": {},
   "source": [
    "It would not be a complete solution but it would be possible to pass a window of the input, however, this would be memory intensive and would still not capture the full context of the input as any context outside of the window is lost to the model."
   ]
  },
  {
   "cell_type": "markdown",
   "metadata": {},
   "source": [
    "## Task 2 (25 points):"
   ]
  },
  {
   "cell_type": "markdown",
   "metadata": {},
   "source": [
    "In this task, use any of the pre-trained word embeddings. The Wor2vec embedding link\n",
    "provided with the lecture notes can be useful to get started. Write your own code/function that \n",
    "uses these embeddings and outputs cosine similarity and a dissimilarity score for any 2 pair of\n",
    "words (read as user input). The dissimilarity score should be defined by you. You either can\n",
    "have your own idea of a dissimilarity score or refer to literature (cite the paper you used). In\n",
    "either case clearly describe how this score helps determine the dissimilarity between 2 words.\n",
    "\n",
    "Note: Dissimilarity measure has been an important metric for recommender systems trying to\n",
    "introduce ‘Novelty and Diversity’ in assortments (as opposed to only accuracy). You might find\n",
    "different metrics of dissimilarity in recommender system’s literature."
   ]
  },
  {
   "cell_type": "code",
   "execution_count": 92,
   "metadata": {},
   "outputs": [
    {
     "ename": "ValueError",
     "evalue": "unable to read local cache '/Users/danielkopp/gensim-data/information.json' during fallback, connect to the Internet and retry",
     "output_type": "error",
     "traceback": [
      "\u001b[0;31m---------------------------------------------------------------------------\u001b[0m",
      "\u001b[0;31mFileNotFoundError\u001b[0m                         Traceback (most recent call last)",
      "\u001b[0;32m/Library/Frameworks/Python.framework/Versions/3.7/lib/python3.7/site-packages/gensim/downloader.py\u001b[0m in \u001b[0;36m_load_info\u001b[0;34m(url, encoding)\u001b[0m\n\u001b[1;32m    218\u001b[0m         \u001b[0;31m#\u001b[0m\u001b[0;34m\u001b[0m\u001b[0;34m\u001b[0m\u001b[0;34m\u001b[0m\u001b[0m\n\u001b[0;32m--> 219\u001b[0;31m         \u001b[0;32mwith\u001b[0m \u001b[0mio\u001b[0m\u001b[0;34m.\u001b[0m\u001b[0mopen\u001b[0m\u001b[0;34m(\u001b[0m\u001b[0mcache_path\u001b[0m\u001b[0;34m,\u001b[0m \u001b[0;34m'r'\u001b[0m\u001b[0;34m,\u001b[0m \u001b[0mencoding\u001b[0m\u001b[0;34m=\u001b[0m\u001b[0mencoding\u001b[0m\u001b[0;34m)\u001b[0m \u001b[0;32mas\u001b[0m \u001b[0mfin\u001b[0m\u001b[0;34m:\u001b[0m\u001b[0;34m\u001b[0m\u001b[0;34m\u001b[0m\u001b[0m\n\u001b[0m\u001b[1;32m    220\u001b[0m             \u001b[0;32mreturn\u001b[0m \u001b[0mjson\u001b[0m\u001b[0;34m.\u001b[0m\u001b[0mload\u001b[0m\u001b[0;34m(\u001b[0m\u001b[0mfin\u001b[0m\u001b[0;34m)\u001b[0m\u001b[0;34m\u001b[0m\u001b[0;34m\u001b[0m\u001b[0m\n",
      "\u001b[0;31mFileNotFoundError\u001b[0m: [Errno 2] No such file or directory: '/Users/danielkopp/gensim-data/information.json'",
      "\nDuring handling of the above exception, another exception occurred:\n",
      "\u001b[0;31mValueError\u001b[0m                                Traceback (most recent call last)",
      "\u001b[0;32m/var/folders/y2/_kzfb30s4xqbkpvb3kdm47c00000gn/T/ipykernel_47820/3409412162.py\u001b[0m in \u001b[0;36m<module>\u001b[0;34m\u001b[0m\n\u001b[1;32m      2\u001b[0m \u001b[0;32mimport\u001b[0m \u001b[0mgensim\u001b[0m\u001b[0;34m.\u001b[0m\u001b[0mdownloader\u001b[0m \u001b[0;32mas\u001b[0m \u001b[0mapi\u001b[0m\u001b[0;34m\u001b[0m\u001b[0;34m\u001b[0m\u001b[0m\n\u001b[1;32m      3\u001b[0m \u001b[0;34m\u001b[0m\u001b[0m\n\u001b[0;32m----> 4\u001b[0;31m \u001b[0mcorpus\u001b[0m \u001b[0;34m=\u001b[0m \u001b[0mapi\u001b[0m\u001b[0;34m.\u001b[0m\u001b[0mload\u001b[0m\u001b[0;34m(\u001b[0m\u001b[0;34m'text8'\u001b[0m\u001b[0;34m)\u001b[0m\u001b[0;34m\u001b[0m\u001b[0;34m\u001b[0m\u001b[0m\n\u001b[0m\u001b[1;32m      5\u001b[0m \u001b[0mmodel\u001b[0m \u001b[0;34m=\u001b[0m \u001b[0mWord2Vec\u001b[0m\u001b[0;34m(\u001b[0m\u001b[0mcorpus\u001b[0m\u001b[0;34m)\u001b[0m\u001b[0;34m\u001b[0m\u001b[0;34m\u001b[0m\u001b[0m\n\u001b[1;32m      6\u001b[0m \u001b[0;34m\u001b[0m\u001b[0m\n",
      "\u001b[0;32m/Library/Frameworks/Python.framework/Versions/3.7/lib/python3.7/site-packages/gensim/downloader.py\u001b[0m in \u001b[0;36mload\u001b[0;34m(name, return_path)\u001b[0m\n\u001b[1;32m    488\u001b[0m     \"\"\"\n\u001b[1;32m    489\u001b[0m     \u001b[0m_create_base_dir\u001b[0m\u001b[0;34m(\u001b[0m\u001b[0;34m)\u001b[0m\u001b[0;34m\u001b[0m\u001b[0;34m\u001b[0m\u001b[0m\n\u001b[0;32m--> 490\u001b[0;31m     \u001b[0mfile_name\u001b[0m \u001b[0;34m=\u001b[0m \u001b[0m_get_filename\u001b[0m\u001b[0;34m(\u001b[0m\u001b[0mname\u001b[0m\u001b[0;34m)\u001b[0m\u001b[0;34m\u001b[0m\u001b[0;34m\u001b[0m\u001b[0m\n\u001b[0m\u001b[1;32m    491\u001b[0m     \u001b[0;32mif\u001b[0m \u001b[0mfile_name\u001b[0m \u001b[0;32mis\u001b[0m \u001b[0;32mNone\u001b[0m\u001b[0;34m:\u001b[0m\u001b[0;34m\u001b[0m\u001b[0;34m\u001b[0m\u001b[0m\n\u001b[1;32m    492\u001b[0m         \u001b[0;32mraise\u001b[0m \u001b[0mValueError\u001b[0m\u001b[0;34m(\u001b[0m\u001b[0;34m\"Incorrect model/corpus name\"\u001b[0m\u001b[0;34m)\u001b[0m\u001b[0;34m\u001b[0m\u001b[0;34m\u001b[0m\u001b[0m\n",
      "\u001b[0;32m/Library/Frameworks/Python.framework/Versions/3.7/lib/python3.7/site-packages/gensim/downloader.py\u001b[0m in \u001b[0;36m_get_filename\u001b[0;34m(name)\u001b[0m\n\u001b[1;32m    424\u001b[0m \u001b[0;34m\u001b[0m\u001b[0m\n\u001b[1;32m    425\u001b[0m     \"\"\"\n\u001b[0;32m--> 426\u001b[0;31m     \u001b[0minformation\u001b[0m \u001b[0;34m=\u001b[0m \u001b[0minfo\u001b[0m\u001b[0;34m(\u001b[0m\u001b[0;34m)\u001b[0m\u001b[0;34m\u001b[0m\u001b[0;34m\u001b[0m\u001b[0m\n\u001b[0m\u001b[1;32m    427\u001b[0m     \u001b[0mcorpora\u001b[0m \u001b[0;34m=\u001b[0m \u001b[0minformation\u001b[0m\u001b[0;34m[\u001b[0m\u001b[0;34m'corpora'\u001b[0m\u001b[0;34m]\u001b[0m\u001b[0;34m\u001b[0m\u001b[0;34m\u001b[0m\u001b[0m\n\u001b[1;32m    428\u001b[0m     \u001b[0mmodels\u001b[0m \u001b[0;34m=\u001b[0m \u001b[0minformation\u001b[0m\u001b[0;34m[\u001b[0m\u001b[0;34m'models'\u001b[0m\u001b[0;34m]\u001b[0m\u001b[0;34m\u001b[0m\u001b[0;34m\u001b[0m\u001b[0m\n",
      "\u001b[0;32m/Library/Frameworks/Python.framework/Versions/3.7/lib/python3.7/site-packages/gensim/downloader.py\u001b[0m in \u001b[0;36minfo\u001b[0;34m(name, show_only_latest, name_only)\u001b[0m\n\u001b[1;32m    266\u001b[0m \u001b[0;34m\u001b[0m\u001b[0m\n\u001b[1;32m    267\u001b[0m     \"\"\"\n\u001b[0;32m--> 268\u001b[0;31m     \u001b[0minformation\u001b[0m \u001b[0;34m=\u001b[0m \u001b[0m_load_info\u001b[0m\u001b[0;34m(\u001b[0m\u001b[0;34m)\u001b[0m\u001b[0;34m\u001b[0m\u001b[0;34m\u001b[0m\u001b[0m\n\u001b[0m\u001b[1;32m    269\u001b[0m \u001b[0;34m\u001b[0m\u001b[0m\n\u001b[1;32m    270\u001b[0m     \u001b[0;32mif\u001b[0m \u001b[0mname\u001b[0m \u001b[0;32mis\u001b[0m \u001b[0;32mnot\u001b[0m \u001b[0;32mNone\u001b[0m\u001b[0;34m:\u001b[0m\u001b[0;34m\u001b[0m\u001b[0;34m\u001b[0m\u001b[0m\n",
      "\u001b[0;32m/Library/Frameworks/Python.framework/Versions/3.7/lib/python3.7/site-packages/gensim/downloader.py\u001b[0m in \u001b[0;36m_load_info\u001b[0;34m(url, encoding)\u001b[0m\n\u001b[1;32m    222\u001b[0m         raise ValueError(\n\u001b[1;32m    223\u001b[0m             \u001b[0;34m'unable to read local cache %r during fallback, '\u001b[0m\u001b[0;34m\u001b[0m\u001b[0;34m\u001b[0m\u001b[0m\n\u001b[0;32m--> 224\u001b[0;31m             \u001b[0;34m'connect to the Internet and retry'\u001b[0m \u001b[0;34m%\u001b[0m \u001b[0mcache_path\u001b[0m\u001b[0;34m\u001b[0m\u001b[0;34m\u001b[0m\u001b[0m\n\u001b[0m\u001b[1;32m    225\u001b[0m         )\n\u001b[1;32m    226\u001b[0m \u001b[0;34m\u001b[0m\u001b[0m\n",
      "\u001b[0;31mValueError\u001b[0m: unable to read local cache '/Users/danielkopp/gensim-data/information.json' during fallback, connect to the Internet and retry"
     ]
    }
   ],
   "source": [
    "from gensim.models.word2vec import Word2Vec\n",
    "import gensim.downloader as api\n",
    "\n",
    "corpus = api.load('text8')\n",
    "model = Word2Vec(corpus)\n",
    "\n",
    "def cosine_sim(a, b):\n",
    "    return a.dot(b) / (np.linalg.norm(a) * np.linalg.norm(b))\n",
    "\n",
    "# similarity and distance metrics are inverses of each other\n",
    "# this is usually a multiplicative relationship\n",
    "# ie. cosine distance would be 1 / cosine similarity\n",
    "# therefore distances are the same as dissimilarity\n",
    "# one very general distance metric is the minkowski distance\n",
    "# this is a generalization of the euclidian, manhattan \n",
    "# and chebyshev distances\n",
    "# p = 1,   manhattan\n",
    "# p = 2,   euclidian\n",
    "# p = inf, chebyshev\n",
    "def minkowski(a, b, p):\n",
    "    return np.power(np.sum(np.power(np.linalg.norm(a - b),p)), 1/p)"
   ]
  },
  {
   "cell_type": "code",
   "execution_count": null,
   "metadata": {},
   "outputs": [],
   "source": [
    "word1 = input(\"enter the first word: \")\n",
    "print(f\"the first word is '{word1}'\")\n",
    "\n",
    "word2 = input(\"enter the second word: \")\n",
    "print(f\"the first word is '{word2}'\")\n",
    "\n",
    "vec1, vec2 = model[word1], model[word2]\n",
    "\n",
    "print(f\"cosine similarity = {cosine_sim(vec1, vec2)}\")\n",
    "print(f\"manhattan distance = {minkowski(vec1, vec2, 1)}\")\n",
    "print(f\"euclidan distance = {minkowski(vec1, vec2, 2)}\")\n",
    "print(f\"chebychev distance = {minkowski(vec1, vec2, np.inf)}\")"
   ]
  }
 ],
 "metadata": {
  "kernelspec": {
   "display_name": "Python 3.7.7 64-bit",
   "language": "python",
   "name": "python3"
  },
  "language_info": {
   "codemirror_mode": {
    "name": "ipython",
    "version": 3
   },
   "file_extension": ".py",
   "mimetype": "text/x-python",
   "name": "python",
   "nbconvert_exporter": "python",
   "pygments_lexer": "ipython3",
   "version": "3.7.7"
  },
  "orig_nbformat": 4,
  "vscode": {
   "interpreter": {
    "hash": "aee8b7b246df8f9039afb4144a1f6fd8d2ca17a180786b69acc140d282b71a49"
   }
  }
 },
 "nbformat": 4,
 "nbformat_minor": 2
}
