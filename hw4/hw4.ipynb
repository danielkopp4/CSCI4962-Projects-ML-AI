{
 "cells": [
  {
   "cell_type": "markdown",
   "metadata": {},
   "source": [
    "In your project, you will pick a dataset (time-series) and an associated problem that can be\n",
    "solved via sequence models. You must describe why you need sequence models to solve this\n",
    "problem. Include a link to the dataset source. Next, you should pick an RNN framework that you\n",
    "would use to solve this problem (This framework can be in TensorFlow, PyTorch or any other\n",
    "Python Package). "
   ]
  },
  {
   "cell_type": "markdown",
   "metadata": {},
   "source": [
    "I used the famous Amazon Reviews dataset containing millions of Amazon Reviews (http://jmcauley.ucsd.edu/data/amazon/links.html, only the json file of the office supplies reviews). Only sequence models would work on this dataset as its text and it requires positional awareness to predict the sentiment of the review. I only used the first office supplies as my computer could not handle the full amount of the reviews."
   ]
  },
  {
   "cell_type": "code",
   "execution_count": 21,
   "metadata": {},
   "outputs": [],
   "source": [
    "import tensorflow as tf\n",
    "import numpy as np\n",
    "from tensorflow.keras.layers import SimpleRNN, Dense, Embedding, LSTM, GRU\n",
    "from tensorflow.keras import Sequential\n",
    "from typing import List\n",
    "import matplotlib.pyplot as plt"
   ]
  },
  {
   "cell_type": "code",
   "execution_count": 29,
   "metadata": {},
   "outputs": [],
   "source": [
    "raw_dataset = ([], [])\n",
    "\n",
    "with open(\"reviews.json\", \"r\") as file:\n",
    "    for line in file.readlines():\n",
    "        print(line)\n",
    "        data = json.loads(line)\n",
    "        raw_dataset[0].append(data[\"reviewText\"])\n",
    "        raw_dataset[1].append(data[\"overall\"])"
   ]
  },
  {
   "cell_type": "code",
   "execution_count": 2,
   "metadata": {},
   "outputs": [
    {
     "name": "stdout",
     "output_type": "stream",
     "text": [
      "number of unique tokens: 8643\n",
      "random line of data: 'do me no slander, douglas: by my life,'\n",
      "tokenized version: [463, 177, 59, 2, 3641, 5, 313, 219, 179, 2, 693, 0]\n",
      "reconstructed version from tokens: 'do me no slander, douglas: by my life, '\n"
     ]
    }
   ],
   "source": [
    "# upon inspecting the data it is evident that there are many kinds of punctuation\n",
    "# we would like a word like \"hi!\"\" to equal tokens of \"hi\" + \"!\" rather\n",
    "# than having \"hi\" \"hi!\" be completely different tokens\n",
    "# such is the case for all other punctuation\n",
    "\n",
    "\n",
    "# returns to_add_tokens, word without punctuation\n",
    "punctuation = [\",\", \".\", \"!\", \":\", \";\", \")\", \"]\", \"(\", \"[\"]\n",
    "def account_for_punct(word):\n",
    "    to_add_tokens = []\n",
    "    # check for (, only character that occurs at the beginning\n",
    "    # others will be at the end\n",
    "\n",
    "    # if these are the only characters do not check for suffix punctuation\n",
    "    if word == \"[\" or word == \"(\":\n",
    "        return [punctuation.index(word) + 2], \"\"\n",
    "\n",
    "    if \"(\" == word[0] or \"[\" == word[0]:\n",
    "        to_add_tokens.append(punctuation.index(\"(\") + 2)\n",
    "        word = word[1:]\n",
    "\n",
    "\n",
    "    # check for end of character punctuation\n",
    "    end_char = word[-1]\n",
    "    if end_char in punctuation:\n",
    "        to_add_tokens.append(punctuation.index(end_char) + 2)\n",
    "        word = word[:-1]\n",
    "\n",
    "    return to_add_tokens, word\n",
    "\n",
    "    \n",
    "\n",
    "# takes in raw text as array of strings\n",
    "def get_token_mappings(inpt: List[str]):\n",
    "    counter = 2 + len(punctuation) # reserved for punctuation\n",
    "    str_to_token = {\"\\n\" : 0, \"\": 1} \n",
    "    token_to_str = {0: \"\\n\", 1: \"\"}\n",
    "\n",
    "    # add the punctuation in\n",
    "    for i, punct in enumerate(punctuation):\n",
    "        token_to_str[i + 2] = punct\n",
    "        str_to_token[punct] = i + 2\n",
    "\n",
    "    # go line by line and add newline char to end of token input\n",
    "    tokenized = []\n",
    "    for line in inpt:\n",
    "        # remove \" character\n",
    "        line = line.replace('\"', \"\").replace(\"\\n\", \"\").lower()\n",
    "        # word based tokenization\n",
    "        words = line.split(\" \")\n",
    "\n",
    "        for word in words:\n",
    "            # skip token\n",
    "            if word == \"\":\n",
    "                tokenized.append(1)\n",
    "                continue\n",
    "\n",
    "            # process punctuation, gets added before word\n",
    "            # likely not the best strategy but should suffice\n",
    "            # for this use case\n",
    "            to_add_tokens, word = account_for_punct(word)\n",
    "            for token in to_add_tokens:\n",
    "                tokenized.append(token)\n",
    "\n",
    "            # add word if not in vocab\n",
    "            if word not in str_to_token:\n",
    "                str_to_token[word] = counter\n",
    "                token_to_str[counter] = word\n",
    "                counter += 1\n",
    "\n",
    "            # tokenize processed word\n",
    "            tokenized.append(str_to_token[word])\n",
    "\n",
    "        # add newline token\n",
    "        tokenized.append(0)\n",
    "\n",
    "    # convert to np array \n",
    "    tokenized = np.array(tokenized).reshape(len(tokenized), 1)\n",
    "    return str_to_token, token_to_str, counter, tokenized\n",
    "\n",
    "def tokenize(str_to_token, string):\n",
    "    tokenized = []\n",
    "    for line in string.split(\"\\n\"):\n",
    "        line = line.replace('\"', \"\").replace(\"\\n\", \"\").lower()\n",
    "        words = line.split(\" \")\n",
    "        for word in words:\n",
    "            if word == \"\":\n",
    "                tokenized.append(1)\n",
    "                continue\n",
    "\n",
    "            to_add_tokens, word = account_for_punct(word)\n",
    "            for token in to_add_tokens:\n",
    "                tokenized.append(token)\n",
    "\n",
    "            tokenized.append(str_to_token[word])\n",
    "\n",
    "        tokenized.append(0)\n",
    "\n",
    "    return np.array(tokenized).reshape(len(tokenized), 1)\n",
    "\n",
    "\n",
    "def lookup(token_to_str, tokens):\n",
    "    if type(tokens) == np.ndarray:\n",
    "        tokens = tokens.flatten()\n",
    "\n",
    "    string = []\n",
    "\n",
    "    prev_punct = None\n",
    "\n",
    "    for token in tokens:\n",
    "        if token == 0:\n",
    "            string.append(\"\\n\")\n",
    "        elif token == 1:\n",
    "            string.append(\"\")\n",
    "        elif token < 2 + len(punctuation):\n",
    "            punct = punctuation[token - 2]\n",
    "            if not prev_punct:\n",
    "                prev_punct = punct\n",
    "            else:\n",
    "                if type(prev_punct) == list:\n",
    "                    prev_punct = prev_punct[0]\n",
    "                    \n",
    "                prev_punct = [prev_punct, punct]\n",
    "        else:\n",
    "            word = token_to_str[token]\n",
    "            if prev_punct:\n",
    "                if type(prev_punct) == list:\n",
    "                    word = prev_punct[0] + word + prev_punct[1]\n",
    "                elif prev_punct == \"[\" or prev_punct == \"(\":\n",
    "                    word = prev_punct + word\n",
    "                else:\n",
    "                    word = word + prev_punct\n",
    "\n",
    "                prev_punct = None\n",
    "            string.append(word)\n",
    "\n",
    "    return \" \".join(string)\n",
    "            \n",
    "\n",
    "with open(\"alllines.txt\") as file:\n",
    "    data = file.readlines()\n",
    "data = data[:10000]\n",
    "\n",
    "str_to_token, token_to_str, n_tokens, tokenized = get_token_mappings(data)\n",
    "print(f\"number of unique tokens: {n_tokens}\")\n",
    "random_line_number = int(np.random.rand() * len(data))\n",
    "random_line = data[random_line_number].replace('\"', \"\").replace(\"\\n\", \"\").lower()\n",
    "print(f\"random line of data: '{random_line}'\")\n",
    "print(f\"tokenized version: {list(tokenize(str_to_token, random_line).flatten())}\")\n",
    "reconstructed = lookup(token_to_str, tokenize(str_to_token, random_line)).replace(\"\\n\", \"\")\n",
    "print(f\"reconstructed version from tokens: '{reconstructed}'\")"
   ]
  },
  {
   "cell_type": "code",
   "execution_count": 3,
   "metadata": {},
   "outputs": [],
   "source": [
    "def one_hot_encode_tokens(token_data, n_tokens):\n",
    "    output = np.zeros((len(token_data), n_tokens))\n",
    "    for i, token in enumerate(token_data):\n",
    "        output[i][token] = 1\n",
    "\n",
    "    return output\n",
    "\n",
    "def reverse_one_hot_encode(one_hot_encoded):\n",
    "    tokens = []\n",
    "    for one_hot in one_hot_encoded:\n",
    "        tokens.append(np.argmax(one_hot))\n",
    "    return tokens"
   ]
  },
  {
   "cell_type": "code",
   "execution_count": 4,
   "metadata": {},
   "outputs": [],
   "source": [
    "split = 0.8\n",
    "split_index = int(len(tokenized) * split)\n",
    "data_train = tokenized[:split_index]\n",
    "data_test = tokenized[split_index:]\n",
    "\n",
    "data_train = data_train[:-1], one_hot_encode_tokens(data_train[1:], n_tokens) # y is shifted 1 over\n",
    "data_test = data_test[:-1], one_hot_encode_tokens(data_test[1:], n_tokens)"
   ]
  },
  {
   "cell_type": "markdown",
   "metadata": {},
   "source": [
    "## Task 1 (60 points):"
   ]
  },
  {
   "cell_type": "markdown",
   "metadata": {},
   "source": [
    "### Part 1 (30 points): \n",
    "Implement your RNN either using an existing framework OR you can\n",
    "implement your own RNN cell structure. In either case, describe the structure of your\n",
    "RNN and the activation functions you are using for each time step and in the output\n",
    "layer. Define a metric you will use to measure the performance of your model (NOTE:\n",
    "Performance should be measured both for the validation set and the test set)."
   ]
  },
  {
   "cell_type": "markdown",
   "metadata": {},
   "source": [
    "The metric of the preformance will be crossentropy as we are measuring the likelyhood of tokens appearing after sequences of others. This means that the final activation of the model should also be softamx with a Glorot Unfiform intializer. As described in my last assignment He Uniform is designed to keep the variance of each output 1 for the relu activation function. For nearly all other activations (sigmod like functions such as softmax and tanh) Glorot Unfiform is the initializer to keep the expected output variance at 1. This is important to reduce the chance of exploding / vanishing gradients as especially if we had a deeper neural network we would have an expected variance of $(\\sigma^2)^l$ where $l$ is the number of layers, and if $\\sigma^2$ is not close to 1 the output would either ballon or deflate rapidly. \n",
    "\n",
    "We will also use the ReLU activation function as it has been shown to reduce the vanishing gradient effect that is often seen in RNNs (https://arxiv.org/abs/1511.03771).\n",
    "\n",
    "The number of hidden units were tuned form random inital values.\n",
    "\n",
    "The final output size is just the length of one one-hot vector."
   ]
  },
  {
   "cell_type": "code",
   "execution_count": 5,
   "metadata": {},
   "outputs": [
    {
     "name": "stderr",
     "output_type": "stream",
     "text": [
      "2022-10-24 04:59:40.920188: I tensorflow/stream_executor/cuda/cuda_gpu_executor.cc:980] successful NUMA node read from SysFS had negative value (-1), but there must be at least one NUMA node, so returning NUMA node zero\n",
      "2022-10-24 04:59:40.922522: I tensorflow/stream_executor/cuda/cuda_gpu_executor.cc:980] successful NUMA node read from SysFS had negative value (-1), but there must be at least one NUMA node, so returning NUMA node zero\n",
      "2022-10-24 04:59:40.922696: I tensorflow/stream_executor/cuda/cuda_gpu_executor.cc:980] successful NUMA node read from SysFS had negative value (-1), but there must be at least one NUMA node, so returning NUMA node zero\n",
      "2022-10-24 04:59:40.923012: I tensorflow/core/platform/cpu_feature_guard.cc:193] This TensorFlow binary is optimized with oneAPI Deep Neural Network Library (oneDNN) to use the following CPU instructions in performance-critical operations:  AVX2 FMA\n",
      "To enable them in other operations, rebuild TensorFlow with the appropriate compiler flags.\n",
      "2022-10-24 04:59:40.923408: I tensorflow/stream_executor/cuda/cuda_gpu_executor.cc:980] successful NUMA node read from SysFS had negative value (-1), but there must be at least one NUMA node, so returning NUMA node zero\n",
      "2022-10-24 04:59:40.923650: I tensorflow/stream_executor/cuda/cuda_gpu_executor.cc:980] successful NUMA node read from SysFS had negative value (-1), but there must be at least one NUMA node, so returning NUMA node zero\n",
      "2022-10-24 04:59:40.923777: I tensorflow/stream_executor/cuda/cuda_gpu_executor.cc:980] successful NUMA node read from SysFS had negative value (-1), but there must be at least one NUMA node, so returning NUMA node zero\n",
      "2022-10-24 04:59:41.330863: I tensorflow/stream_executor/cuda/cuda_gpu_executor.cc:980] successful NUMA node read from SysFS had negative value (-1), but there must be at least one NUMA node, so returning NUMA node zero\n",
      "2022-10-24 04:59:41.331026: I tensorflow/stream_executor/cuda/cuda_gpu_executor.cc:980] successful NUMA node read from SysFS had negative value (-1), but there must be at least one NUMA node, so returning NUMA node zero\n",
      "2022-10-24 04:59:41.331142: I tensorflow/stream_executor/cuda/cuda_gpu_executor.cc:980] successful NUMA node read from SysFS had negative value (-1), but there must be at least one NUMA node, so returning NUMA node zero\n",
      "2022-10-24 04:59:41.331248: I tensorflow/core/common_runtime/gpu/gpu_device.cc:1616] Created device /job:localhost/replica:0/task:0/device:GPU:0 with 8806 MB memory:  -> device: 0, name: NVIDIA GeForce RTX 3080 Ti, pci bus id: 0000:01:00.0, compute capability: 8.6\n"
     ]
    },
    {
     "name": "stdout",
     "output_type": "stream",
     "text": [
      "Model: \"sequential\"\n",
      "_________________________________________________________________\n",
      " Layer (type)                Output Shape              Param #   \n",
      "=================================================================\n",
      " embedding (Embedding)       (None, 1, 64)             553152    \n",
      "                                                                 \n",
      " simple_rnn (SimpleRNN)      (None, 1, 64)             8256      \n",
      "                                                                 \n",
      " simple_rnn_1 (SimpleRNN)    (None, 1, 128)            24704     \n",
      "                                                                 \n",
      " simple_rnn_2 (SimpleRNN)    (None, 512)               328192    \n",
      "                                                                 \n",
      " dense (Dense)               (None, 8643)              4433859   \n",
      "                                                                 \n",
      "=================================================================\n",
      "Total params: 5,348,163\n",
      "Trainable params: 5,348,163\n",
      "Non-trainable params: 0\n",
      "_________________________________________________________________\n"
     ]
    }
   ],
   "source": [
    "units = [64, 64, 128, 512]\n",
    "\n",
    "model = Sequential([\n",
    "    Embedding(n_tokens, input_length=1, output_dim=units[0]),\n",
    "    SimpleRNN(units[1], activation=\"relu\", kernel_initializer=\"he_uniform\", return_sequences=True),\n",
    "    SimpleRNN(units[2], activation=\"relu\", kernel_initializer=\"he_uniform\", return_sequences=True),\n",
    "    SimpleRNN(units[3], activation=\"relu\", kernel_initializer=\"he_uniform\"),\n",
    "    Dense(n_tokens, activation=\"softmax\", kernel_initializer=\"glorot_uniform\")\n",
    "])\n",
    "\n",
    "model.summary()\n",
    "model.compile(optimizer='adam', loss='categorical_crossentropy')"
   ]
  },
  {
   "cell_type": "code",
   "execution_count": 6,
   "metadata": {},
   "outputs": [
    {
     "name": "stderr",
     "output_type": "stream",
     "text": [
      "2022-10-24 04:59:43.036176: W tensorflow/core/framework/cpu_allocator_impl.cc:82] Allocation of 2758672740 exceeds 10% of free system memory.\n",
      "2022-10-24 04:59:44.513473: W tensorflow/core/framework/cpu_allocator_impl.cc:82] Allocation of 2758672740 exceeds 10% of free system memory.\n"
     ]
    },
    {
     "name": "stdout",
     "output_type": "stream",
     "text": [
      "Epoch 1/22\n",
      "  29/2494 [..............................] - ETA: 13s - loss: 8.6348"
     ]
    },
    {
     "name": "stderr",
     "output_type": "stream",
     "text": [
      "2022-10-24 04:59:47.624239: I tensorflow/stream_executor/cuda/cuda_blas.cc:1614] TensorFloat-32 will be used for the matrix multiplication. This will only be logged once.\n"
     ]
    },
    {
     "name": "stdout",
     "output_type": "stream",
     "text": [
      "2494/2494 [==============================] - 16s 6ms/step - loss: 5.8900 - val_loss: 5.7249\n",
      "Epoch 2/22\n",
      "2494/2494 [==============================] - 13s 5ms/step - loss: 5.3034 - val_loss: 5.7745\n",
      "Epoch 3/22\n",
      "2494/2494 [==============================] - 14s 6ms/step - loss: 4.9663 - val_loss: 5.9319\n",
      "Epoch 4/22\n",
      "2494/2494 [==============================] - 12s 5ms/step - loss: 4.7265 - val_loss: 6.1444\n",
      "Epoch 5/22\n",
      "2494/2494 [==============================] - 12s 5ms/step - loss: 4.5511 - val_loss: 6.2644\n",
      "Epoch 6/22\n",
      "2494/2494 [==============================] - 14s 6ms/step - loss: 4.4231 - val_loss: 6.4686\n",
      "Epoch 7/22\n",
      "2494/2494 [==============================] - 13s 5ms/step - loss: 4.3242 - val_loss: 6.6172\n",
      "Epoch 8/22\n",
      "2494/2494 [==============================] - 13s 5ms/step - loss: 4.2484 - val_loss: 6.8748\n",
      "Epoch 9/22\n",
      "2494/2494 [==============================] - 13s 5ms/step - loss: 4.1865 - val_loss: 6.9430\n",
      "Epoch 10/22\n",
      "2494/2494 [==============================] - 13s 5ms/step - loss: 4.1377 - val_loss: 7.1824\n",
      "Epoch 11/22\n",
      "2494/2494 [==============================] - 13s 5ms/step - loss: 4.1005 - val_loss: 7.2855\n",
      "Epoch 12/22\n",
      "2494/2494 [==============================] - 13s 5ms/step - loss: 4.0701 - val_loss: 7.3249\n",
      "Epoch 13/22\n",
      "2494/2494 [==============================] - 14s 5ms/step - loss: 4.0478 - val_loss: 7.3729\n",
      "Epoch 14/22\n",
      "2494/2494 [==============================] - 14s 5ms/step - loss: 4.0285 - val_loss: 7.5110\n",
      "Epoch 15/22\n",
      "2494/2494 [==============================] - 14s 5ms/step - loss: 4.0132 - val_loss: 7.4708\n",
      "Epoch 16/22\n",
      "2494/2494 [==============================] - 14s 6ms/step - loss: 4.0006 - val_loss: 7.5220\n",
      "Epoch 17/22\n",
      "2494/2494 [==============================] - 14s 6ms/step - loss: 3.9880 - val_loss: 7.5200\n",
      "Epoch 18/22\n",
      "2494/2494 [==============================] - 14s 6ms/step - loss: 3.9796 - val_loss: 7.6360\n",
      "Epoch 19/22\n",
      "2494/2494 [==============================] - 14s 6ms/step - loss: 3.9719 - val_loss: 7.7217\n",
      "Epoch 20/22\n",
      "2494/2494 [==============================] - 14s 6ms/step - loss: 3.9630 - val_loss: 7.7445\n",
      "Epoch 21/22\n",
      "2494/2494 [==============================] - 14s 6ms/step - loss: 3.9588 - val_loss: 7.8224\n",
      "Epoch 22/22\n",
      "2494/2494 [==============================] - 14s 6ms/step - loss: 3.9510 - val_loss: 7.6768\n"
     ]
    }
   ],
   "source": [
    "history = model.fit(*data_train, validation_data=data_test, epochs=22)"
   ]
  },
  {
   "cell_type": "code",
   "execution_count": 7,
   "metadata": {},
   "outputs": [
    {
     "data": {
      "text/plain": [
       "[<matplotlib.lines.Line2D at 0x7f5e7c067880>]"
      ]
     },
     "execution_count": 7,
     "metadata": {},
     "output_type": "execute_result"
    },
    {
     "data": {
      "image/png": "[encoded data removed]",
      "text/plain": [
       "<Figure size 640x480 with 1 Axes>"
      ]
     },
     "metadata": {},
     "output_type": "display_data"
    }
   ],
   "source": [
    "plt.plot(history.history['loss'])\n",
    "plt.plot(history.history['val_loss'])"
   ]
  },
  {
   "cell_type": "code",
   "execution_count": 8,
   "metadata": {},
   "outputs": [
    {
     "name": "stdout",
     "output_type": "stream",
     "text": [
      "text input: and bootless 'tis to tell you we will go: \n",
      " therefore we meet not now. then let me hear \n",
      " of you, my gentle cousin westmoreland, \n",
      " what yesternight our council did decree \n",
      " in forwarding this dear expedience. \n",
      " my liege, this haste was hot in question, \n",
      " and many limits of the charge set down \n",
      " but yesternight: when all athwart there came \n",
      " a post from wales loaden with heavy news, \n",
      " whose worst was, that the noble mortimer, \n",
      " leading the men of herefordshire to \n",
      "\n",
      "predicted for each word:\n"
     ]
    },
    {
     "data": {
      "text/plain": [
       "\"home, ,not, thee \\n i, me, me, ,me, \\n ,lord, ,lord, \\n a, there's \\n he, \\n the, this a, me \\n ,lord, \\n i, ,the, lord \\n ,very, \\n \\n ,thee, there's i the there is but ,in, the \\n with ,lord, \\n ,tidings, lord i, ,lord, \\n as, \\n ,to,\""
      ]
     },
     "execution_count": 8,
     "metadata": {},
     "output_type": "execute_result"
    }
   ],
   "source": [
    "one_hot_pred = model(data_train[0][300:400])\n",
    "tokens = reverse_one_hot_encode(one_hot_pred)\n",
    "print(\"text input:\", lookup(token_to_str, data_train[0][300:400].flatten()), \"\\n\\npredicted for each word:\")\n",
    "lookup(token_to_str, tokens)"
   ]
  },
  {
   "cell_type": "markdown",
   "metadata": {},
   "source": [
    "I have to do the below step to preserve memory as I will not be able to run the cell after if i do not run this"
   ]
  },
  {
   "cell_type": "code",
   "execution_count": 9,
   "metadata": {},
   "outputs": [],
   "source": [
    "tf.keras.backend.clear_session()\n",
    "if model:\n",
    "    del model"
   ]
  },
  {
   "cell_type": "markdown",
   "metadata": {},
   "source": [
    "### Part 2 (35 points): \n",
    "Update your network from part 1 with first an LSTM and then a GRU\n",
    "based cell structure (You can treat both as 2 separate implementations). Re-do the\n",
    "training and performance evaluation. What are the major differences you notice? Why\n",
    "do you think those differences exist between the 3 implementations (basic RNN, LSTM\n",
    "and GRU)?\n",
    "Note: In part 1 and 2, you must perform sufficient data-visualization, pre-processing\n",
    "and/or feature-engineering if needed. The overall performance visualization of the loss\n",
    "function should also be provided.\n"
   ]
  },
  {
   "cell_type": "markdown",
   "metadata": {},
   "source": [
    "#### LSTM"
   ]
  },
  {
   "cell_type": "code",
   "execution_count": 10,
   "metadata": {},
   "outputs": [
    {
     "name": "stdout",
     "output_type": "stream",
     "text": [
      "WARNING:tensorflow:Layer lstm will not use cuDNN kernels since it doesn't meet the criteria. It will use a generic GPU kernel as fallback when running on GPU.\n",
      "WARNING:tensorflow:Layer lstm_1 will not use cuDNN kernels since it doesn't meet the criteria. It will use a generic GPU kernel as fallback when running on GPU.\n",
      "WARNING:tensorflow:Layer lstm_2 will not use cuDNN kernels since it doesn't meet the criteria. It will use a generic GPU kernel as fallback when running on GPU.\n",
      "Model: \"sequential\"\n",
      "_________________________________________________________________\n",
      " Layer (type)                Output Shape              Param #   \n",
      "=================================================================\n",
      " embedding (Embedding)       (None, None, 64)          553152    \n",
      "                                                                 \n",
      " lstm (LSTM)                 (None, None, 64)          33024     \n",
      "                                                                 \n",
      " lstm_1 (LSTM)               (None, None, 128)         98816     \n",
      "                                                                 \n",
      " lstm_2 (LSTM)               (None, 512)               1312768   \n",
      "                                                                 \n",
      " dense (Dense)               (None, 8643)              4433859   \n",
      "                                                                 \n",
      "=================================================================\n",
      "Total params: 6,431,619\n",
      "Trainable params: 6,431,619\n",
      "Non-trainable params: 0\n",
      "_________________________________________________________________\n"
     ]
    }
   ],
   "source": [
    "units = [64, 64, 128, 512]\n",
    "\n",
    "model = Sequential([\n",
    "    Embedding(n_tokens, output_dim=units[0]),\n",
    "    LSTM(units[1], activation=\"relu\", kernel_initializer=\"he_uniform\", return_sequences=True),\n",
    "    LSTM(units[2], activation=\"relu\", kernel_initializer=\"he_uniform\", return_sequences=True),\n",
    "    LSTM(units[3], activation=\"relu\", kernel_initializer=\"he_uniform\"),\n",
    "    Dense(n_tokens, activation=\"softmax\", kernel_initializer=\"glorot_uniform\")\n",
    "])\n",
    "\n",
    "model.summary()\n",
    "model.compile(optimizer='adam', loss='categorical_crossentropy')"
   ]
  },
  {
   "cell_type": "code",
   "execution_count": 11,
   "metadata": {},
   "outputs": [
    {
     "name": "stderr",
     "output_type": "stream",
     "text": [
      "2022-10-24 05:04:46.340986: W tensorflow/core/framework/cpu_allocator_impl.cc:82] Allocation of 2758672740 exceeds 10% of free system memory.\n",
      "2022-10-24 05:04:47.754221: W tensorflow/core/framework/cpu_allocator_impl.cc:82] Allocation of 2758672740 exceeds 10% of free system memory.\n"
     ]
    },
    {
     "name": "stdout",
     "output_type": "stream",
     "text": [
      "Epoch 1/22\n",
      "2494/2494 [==============================] - 20s 7ms/step - loss: 6.0909 - val_loss: 5.8989\n",
      "Epoch 2/22\n",
      "2494/2494 [==============================] - 17s 7ms/step - loss: 5.6726 - val_loss: 5.8748\n",
      "Epoch 3/22\n",
      "2494/2494 [==============================] - 17s 7ms/step - loss: 5.4041 - val_loss: 5.8993\n",
      "Epoch 4/22\n",
      "2494/2494 [==============================] - 17s 7ms/step - loss: 5.2058 - val_loss: 5.9560\n",
      "Epoch 5/22\n",
      "2494/2494 [==============================] - 17s 7ms/step - loss: 5.0524 - val_loss: 6.0540\n",
      "Epoch 6/22\n",
      "2494/2494 [==============================] - 17s 7ms/step - loss: 4.9165 - val_loss: 6.1566\n",
      "Epoch 7/22\n",
      "2494/2494 [==============================] - 20s 8ms/step - loss: 4.7898 - val_loss: 6.2943\n",
      "Epoch 8/22\n",
      "2494/2494 [==============================] - 18s 7ms/step - loss: 4.6799 - val_loss: 6.4323\n",
      "Epoch 9/22\n",
      "2494/2494 [==============================] - 20s 8ms/step - loss: 4.5912 - val_loss: 6.5256\n",
      "Epoch 10/22\n",
      "2494/2494 [==============================] - 19s 8ms/step - loss: 4.5137 - val_loss: 6.7075\n",
      "Epoch 11/22\n",
      "2494/2494 [==============================] - 19s 8ms/step - loss: 4.4480 - val_loss: 6.9451\n",
      "Epoch 12/22\n",
      "2494/2494 [==============================] - 19s 8ms/step - loss: 4.3913 - val_loss: 6.9971\n",
      "Epoch 13/22\n",
      "2494/2494 [==============================] - 19s 8ms/step - loss: 4.3412 - val_loss: 7.1237\n",
      "Epoch 14/22\n",
      "2494/2494 [==============================] - 19s 8ms/step - loss: 4.2952 - val_loss: 7.2826\n",
      "Epoch 15/22\n",
      "2494/2494 [==============================] - 19s 8ms/step - loss: 4.2564 - val_loss: 7.4099\n",
      "Epoch 16/22\n",
      "2494/2494 [==============================] - 19s 8ms/step - loss: 4.2193 - val_loss: 7.5337\n",
      "Epoch 17/22\n",
      "2494/2494 [==============================] - 19s 8ms/step - loss: 4.1858 - val_loss: 7.5125\n",
      "Epoch 18/22\n",
      "2494/2494 [==============================] - 19s 8ms/step - loss: 4.1582 - val_loss: 7.8796\n",
      "Epoch 19/22\n",
      "2494/2494 [==============================] - 19s 8ms/step - loss: 4.1322 - val_loss: 7.7901\n",
      "Epoch 20/22\n",
      "2494/2494 [==============================] - 20s 8ms/step - loss: 4.1090 - val_loss: 7.9980\n",
      "Epoch 21/22\n",
      "2494/2494 [==============================] - 19s 8ms/step - loss: 4.0891 - val_loss: 8.0219\n",
      "Epoch 22/22\n",
      "2494/2494 [==============================] - 19s 8ms/step - loss: 4.0725 - val_loss: 8.2336\n"
     ]
    }
   ],
   "source": [
    "history = model.fit(*data_train, validation_data=data_test, epochs=22)"
   ]
  },
  {
   "cell_type": "code",
   "execution_count": 12,
   "metadata": {},
   "outputs": [
    {
     "data": {
      "text/plain": [
       "[<matplotlib.lines.Line2D at 0x7f5e384c2460>]"
      ]
     },
     "execution_count": 12,
     "metadata": {},
     "output_type": "execute_result"
    },
    {
     "data": {
      "image/png": "[encoded data removed]",
      "text/plain": [
       "<Figure size 640x480 with 1 Axes>"
      ]
     },
     "metadata": {},
     "output_type": "display_data"
    }
   ],
   "source": [
    "plt.plot(history.history['loss'])\n",
    "plt.plot(history.history['val_loss'])"
   ]
  },
  {
   "cell_type": "code",
   "execution_count": 13,
   "metadata": {},
   "outputs": [
    {
     "name": "stdout",
     "output_type": "stream",
     "text": [
      "text input: and bootless 'tis to tell you we will go: \n",
      " therefore we meet not now. then let me hear \n",
      " of you, my gentle cousin westmoreland, \n",
      " what yesternight our council did decree \n",
      " in forwarding this dear expedience. \n",
      " my liege, this haste was hot in question, \n",
      " and many limits of the charge set down \n",
      " but yesternight: when all athwart there came \n",
      " a post from wales loaden with heavy news, \n",
      " whose worst was, that the noble mortimer, \n",
      " leading the men of herefordshire to \n",
      "\n",
      "predicted for each word:\n"
     ]
    },
    {
     "data": {
      "text/plain": [
       "\"home, the, ,will, not me \\n ,will, \\n me, \\n \\n me \\n ,lord, ,lord, \\n a, there's \\n he, \\n the, this ,me, \\n ,lord, \\n \\n ,the, lord to ,of, \\n ,me, there's i the there is \\n \\n ,the, \\n with the lord, \\n countenance, this lord i, ,lord, \\n as, \\n ,to, the\""
      ]
     },
     "execution_count": 13,
     "metadata": {},
     "output_type": "execute_result"
    }
   ],
   "source": [
    "one_hot_pred = model(data_train[0][300:400])\n",
    "tokens = reverse_one_hot_encode(one_hot_pred)\n",
    "print(\"text input:\", lookup(token_to_str, data_train[0][300:400].flatten()), \"\\n\\npredicted for each word:\")\n",
    "lookup(token_to_str, tokens)"
   ]
  },
  {
   "cell_type": "code",
   "execution_count": 14,
   "metadata": {},
   "outputs": [],
   "source": [
    "tf.keras.backend.clear_session()\n",
    "if model:\n",
    "    del model"
   ]
  },
  {
   "cell_type": "markdown",
   "metadata": {},
   "source": [
    "#### GRU"
   ]
  },
  {
   "cell_type": "code",
   "execution_count": 15,
   "metadata": {},
   "outputs": [
    {
     "name": "stdout",
     "output_type": "stream",
     "text": [
      "WARNING:tensorflow:Layer gru will not use cuDNN kernels since it doesn't meet the criteria. It will use a generic GPU kernel as fallback when running on GPU.\n",
      "WARNING:tensorflow:Layer gru_1 will not use cuDNN kernels since it doesn't meet the criteria. It will use a generic GPU kernel as fallback when running on GPU.\n",
      "WARNING:tensorflow:Layer gru_2 will not use cuDNN kernels since it doesn't meet the criteria. It will use a generic GPU kernel as fallback when running on GPU.\n",
      "Model: \"sequential\"\n",
      "_________________________________________________________________\n",
      " Layer (type)                Output Shape              Param #   \n",
      "=================================================================\n",
      " embedding (Embedding)       (None, None, 64)          553152    \n",
      "                                                                 \n",
      " gru (GRU)                   (None, None, 64)          24960     \n",
      "                                                                 \n",
      " gru_1 (GRU)                 (None, None, 128)         74496     \n",
      "                                                                 \n",
      " gru_2 (GRU)                 (None, 512)               986112    \n",
      "                                                                 \n",
      " dense (Dense)               (None, 8643)              4433859   \n",
      "                                                                 \n",
      "=================================================================\n",
      "Total params: 6,072,579\n",
      "Trainable params: 6,072,579\n",
      "Non-trainable params: 0\n",
      "_________________________________________________________________\n"
     ]
    }
   ],
   "source": [
    "units = [64, 64, 128, 512]\n",
    "\n",
    "model = Sequential([\n",
    "    Embedding(n_tokens, output_dim=units[0]),\n",
    "    GRU(units[1], activation=\"relu\", kernel_initializer=\"he_uniform\", return_sequences=True),\n",
    "    GRU(units[2], activation=\"relu\", kernel_initializer=\"he_uniform\", return_sequences=True),\n",
    "    GRU(units[3], activation=\"relu\", kernel_initializer=\"he_uniform\"),\n",
    "    Dense(n_tokens, activation=\"softmax\", kernel_initializer=\"glorot_uniform\")\n",
    "])\n",
    "\n",
    "model.summary()\n",
    "model.compile(optimizer='adam', loss='categorical_crossentropy')"
   ]
  },
  {
   "cell_type": "code",
   "execution_count": 16,
   "metadata": {},
   "outputs": [
    {
     "name": "stderr",
     "output_type": "stream",
     "text": [
      "2022-10-24 05:11:42.465291: W tensorflow/core/framework/cpu_allocator_impl.cc:82] Allocation of 2758672740 exceeds 10% of free system memory.\n"
     ]
    },
    {
     "name": "stdout",
     "output_type": "stream",
     "text": [
      "Epoch 1/22\n",
      "2494/2494 [==============================] - 23s 8ms/step - loss: 5.9769 - val_loss: 5.8151\n",
      "Epoch 2/22\n",
      "2494/2494 [==============================] - 20s 8ms/step - loss: 5.4701 - val_loss: 5.7730\n",
      "Epoch 3/22\n",
      "2494/2494 [==============================] - 20s 8ms/step - loss: 5.1901 - val_loss: 5.9101\n",
      "Epoch 4/22\n",
      "2494/2494 [==============================] - 20s 8ms/step - loss: 4.9895 - val_loss: 5.9915\n",
      "Epoch 5/22\n",
      "2494/2494 [==============================] - 20s 8ms/step - loss: 4.8111 - val_loss: 6.0650\n",
      "Epoch 6/22\n",
      "2494/2494 [==============================] - 20s 8ms/step - loss: 4.6647 - val_loss: 6.2550\n",
      "Epoch 7/22\n",
      "2494/2494 [==============================] - 20s 8ms/step - loss: 4.5457 - val_loss: 6.4193\n",
      "Epoch 8/22\n",
      "2494/2494 [==============================] - 21s 8ms/step - loss: 4.4474 - val_loss: 6.5761\n",
      "Epoch 9/22\n",
      "2494/2494 [==============================] - 20s 8ms/step - loss: 4.3680 - val_loss: 6.7929\n",
      "Epoch 10/22\n",
      "2494/2494 [==============================] - 20s 8ms/step - loss: 4.3011 - val_loss: 6.9263\n",
      "Epoch 11/22\n",
      "2494/2494 [==============================] - 21s 9ms/step - loss: 4.2456 - val_loss: 7.1502\n",
      "Epoch 12/22\n",
      "2494/2494 [==============================] - 20s 8ms/step - loss: 4.1972 - val_loss: 7.2742\n",
      "Epoch 13/22\n",
      "2494/2494 [==============================] - 24s 9ms/step - loss: 4.1568 - val_loss: 7.4637\n",
      "Epoch 14/22\n",
      "2494/2494 [==============================] - 23s 9ms/step - loss: 4.1246 - val_loss: 7.5635\n",
      "Epoch 15/22\n",
      "2494/2494 [==============================] - 23s 9ms/step - loss: 4.0971 - val_loss: 7.5139\n",
      "Epoch 16/22\n",
      "2494/2494 [==============================] - 23s 9ms/step - loss: 4.0743 - val_loss: 7.7746\n",
      "Epoch 17/22\n",
      "2494/2494 [==============================] - 23s 9ms/step - loss: 4.0568 - val_loss: 7.7623\n",
      "Epoch 18/22\n",
      "2494/2494 [==============================] - 20s 8ms/step - loss: 4.0407 - val_loss: 7.9039\n",
      "Epoch 19/22\n",
      "2494/2494 [==============================] - 20s 8ms/step - loss: 4.0256 - val_loss: 7.8630\n",
      "Epoch 20/22\n",
      "2494/2494 [==============================] - 22s 9ms/step - loss: 4.0135 - val_loss: 7.8859\n",
      "Epoch 21/22\n",
      "2494/2494 [==============================] - 20s 8ms/step - loss: 4.0043 - val_loss: 7.8928\n",
      "Epoch 22/22\n",
      "2494/2494 [==============================] - 20s 8ms/step - loss: 3.9943 - val_loss: 7.9082\n"
     ]
    }
   ],
   "source": [
    "history = model.fit(*data_train, validation_data=data_test, epochs=22)"
   ]
  },
  {
   "cell_type": "code",
   "execution_count": 17,
   "metadata": {},
   "outputs": [
    {
     "data": {
      "text/plain": [
       "[<matplotlib.lines.Line2D at 0x7f5e303b20d0>]"
      ]
     },
     "execution_count": 17,
     "metadata": {},
     "output_type": "execute_result"
    },
    {
     "data": {
      "image/png": "[encoded data removed]",
      "text/plain": [
       "<Figure size 640x480 with 1 Axes>"
      ]
     },
     "metadata": {},
     "output_type": "display_data"
    }
   ],
   "source": [
    "plt.plot(history.history['loss'])\n",
    "plt.plot(history.history['val_loss'])"
   ]
  },
  {
   "cell_type": "code",
   "execution_count": 18,
   "metadata": {},
   "outputs": [
    {
     "name": "stdout",
     "output_type": "stream",
     "text": [
      "text input: and bootless 'tis to tell you we will go: \n",
      " therefore we meet not now. then let me hear \n",
      " of you, my gentle cousin westmoreland, \n",
      " what yesternight our council did decree \n",
      " in forwarding this dear expedience. \n",
      " my liege, this haste was hot in question, \n",
      " and many limits of the charge set down \n",
      " but yesternight: when all athwart there came \n",
      " a post from wales loaden with heavy news, \n",
      " whose worst was, that the noble mortimer, \n",
      " leading the men of herefordshire to \n",
      "\n",
      "predicted for each word:\n"
     ]
    },
    {
     "data": {
      "text/plain": [
       "\"'tis, ,be, thee \\n \\n ,me, ,me, \\n ,lord, ,lord, \\n ,there's, \\n \\n ,the, this a, me \\n ,lord, \\n i, \\n the, lord to ,a, very \\n ,thee, there's i the there is \\n \\n ,the, \\n with the music lord \\n glory, wearing lord i, ,lord, \\n the, \\n ,to,\""
      ]
     },
     "execution_count": 18,
     "metadata": {},
     "output_type": "execute_result"
    }
   ],
   "source": [
    "one_hot_pred = model(data_train[0][300:400])\n",
    "tokens = reverse_one_hot_encode(one_hot_pred)\n",
    "print(\"text input:\", lookup(token_to_str, data_train[0][300:400].flatten()), \"\\n\\npredicted for each word:\")\n",
    "lookup(token_to_str, tokens)"
   ]
  },
  {
   "cell_type": "markdown",
   "metadata": {},
   "source": [
    "### Part 3 (10 points): \n",
    "Can you use the traditional feed-forward network to solve the same\n",
    "problem. Why or why not? (Hint: Can time series data be converted to usual features\n",
    "that can be used as input to a feed-forward network?)"
   ]
  },
  {
   "cell_type": "markdown",
   "metadata": {},
   "source": [
    "It would not be a complete solution but it would be possible to pass a window of the input, however, this would be memory intensive and would still not capture the full context of the input as any context outside of the window is lost to the model. Another solution would be to pass in an input representing an embedding of the history of the data and outputting the next corresspoding history, but this seems like it would likely count as cheating."
   ]
  },
  {
   "cell_type": "markdown",
   "metadata": {},
   "source": [
    "## Task 2 (25 points):"
   ]
  },
  {
   "cell_type": "markdown",
   "metadata": {},
   "source": [
    "In this task, use any of the pre-trained word embeddings. The Wor2vec embedding link\n",
    "provided with the lecture notes can be useful to get started. Write your own code/function that \n",
    "uses these embeddings and outputs cosine similarity and a dissimilarity score for any 2 pair of\n",
    "words (read as user input). The dissimilarity score should be defined by you. You either can\n",
    "have your own idea of a dissimilarity score or refer to literature (cite the paper you used). In\n",
    "either case clearly describe how this score helps determine the dissimilarity between 2 words.\n",
    "\n",
    "Note: Dissimilarity measure has been an important metric for recommender systems trying to\n",
    "introduce ‘Novelty and Diversity’ in assortments (as opposed to only accuracy). You might find\n",
    "different metrics of dissimilarity in recommender system’s literature."
   ]
  },
  {
   "cell_type": "code",
   "execution_count": 19,
   "metadata": {},
   "outputs": [],
   "source": [
    "from gensim.models.word2vec import Word2Vec\n",
    "import gensim.downloader as api\n",
    "\n",
    "corpus = api.load('text8')\n",
    "model = Word2Vec(corpus)\n",
    "\n",
    "def cosine_sim(a, b):\n",
    "    return a.dot(b) / (np.linalg.norm(a) * np.linalg.norm(b))\n",
    "\n",
    "# similarity and distance metrics are inverses of each other\n",
    "# this is usually a multiplicative relationship\n",
    "# ie. cosine distance would be 1 / cosine similarity\n",
    "# therefore distances are the same as dissimilarity\n",
    "# one very general distance metric is the minkowski distance\n",
    "# this is a generalization of the euclidian, manhattan \n",
    "# and chebyshev distances\n",
    "# this is just based on ideas behind dissimilarity and\n",
    "# common distance functions\n",
    "# p = 1,   manhattan\n",
    "# p = 2,   euclidian\n",
    "# p = inf, chebyshev\n",
    "def minkowski(a, b, p):\n",
    "    return np.power(np.sum(np.power(np.abs(a - b), p)), 1/p)"
   ]
  },
  {
   "cell_type": "code",
   "execution_count": 20,
   "metadata": {},
   "outputs": [
    {
     "name": "stdout",
     "output_type": "stream",
     "text": [
      "the first word is 'italy'\n",
      "the first word is 'france'\n",
      "cosine similarity = 0.7851549386978149\n",
      "manhattan distance = 70.46715545654297\n",
      "euclidan distance = 8.791315683406694\n",
      "\n",
      "\n",
      "the first word is 'italy'\n",
      "the first word is 'dog'\n",
      "cosine similarity = -0.09008685499429703\n",
      "manhattan distance = 151.10006713867188\n",
      "euclidan distance = 18.453127480683577\n"
     ]
    }
   ],
   "source": [
    "def get_sim(a, b):\n",
    "    # word1 = input(\"enter the first word: \")\n",
    "    word1 = a\n",
    "    print(f\"the first word is '{word1}'\")\n",
    "\n",
    "    # word2 = input(\"enter the second word: \")\n",
    "    word2 = b\n",
    "    print(f\"the first word is '{word2}'\")\n",
    "\n",
    "    vec1, vec2 = model.wv[word1], model.wv[word2]\n",
    "\n",
    "    print(f\"cosine similarity = {cosine_sim(vec1, vec2)}\")\n",
    "    print(f\"manhattan distance = {minkowski(vec1, vec2, 1)}\")\n",
    "    print(f\"euclidan distance = {minkowski(vec1, vec2, 2)}\")\n",
    "\n",
    "get_sim(\"italy\", \"france\")\n",
    "print(\"\\n\")\n",
    "get_sim(\"italy\", \"dog\")"
   ]
  }
 ],
 "metadata": {
  "interpreter": {
   "hash": "3c335cbb63dfe90d2098bf1beb8946669f431d7ff0dcf4ec772fa68793e28659"
  },
  "kernelspec": {
   "display_name": "Python 3.9.13 64-bit ('network_pruning': conda)",
   "name": "python3"
  },
  "language_info": {
   "codemirror_mode": {
    "name": "ipython",
    "version": 3
   },
   "file_extension": ".py",
   "mimetype": "text/x-python",
   "name": "python",
   "nbconvert_exporter": "python",
   "pygments_lexer": "ipython3",
   "version": "3.9.13"
  },
  "orig_nbformat": 4,
  "vscode": {
   "interpreter": {
    "hash": "aee8b7b246df8f9039afb4144a1f6fd8d2ca17a180786b69acc140d282b71a49"
   }
  }
 },
 "nbformat": 4,
 "nbformat_minor": 2
}
