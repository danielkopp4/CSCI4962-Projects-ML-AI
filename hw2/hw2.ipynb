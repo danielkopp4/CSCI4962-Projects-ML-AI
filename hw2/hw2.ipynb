{
 "cells": [
  {
   "cell_type": "markdown",
   "metadata": {},
   "source": [
    "# Homework 1"
   ]
  },
  {
   "cell_type": "markdown",
   "metadata": {},
   "source": [
    "### Task 1 \n",
    "**Describe a machine learning problem that you would like to solve using Logistic Regression. Clearly state why Logistic regression is the best choice for solving this problem.**\n"
   ]
  },
  {
   "cell_type": "markdown",
   "metadata": {},
   "source": [
    "The problem of predicting credit defaults is an are where logistic regression can thrive. We must be able to predict the likelihood of an individual to default on their credit card. There are many variables to calculate the credit default probability. Thus, logistic regression would be the ideal choice to predict this probability. "
   ]
  },
  {
   "cell_type": "markdown",
   "metadata": {},
   "source": [
    "### Task 2\n",
    "\n",
    "**Pick a publicly available dataset (except The Titanic Dataset because we already discussed that in class) that you will use to solve this problem. You must provide a link to the dataset and perform necessary Exploratory Data Analysis (EDA). Clearly demonstrate the steps you follow for your EDA with a justification of why these were required. For example, if the dataset has lot of missing values, then why did you use a specific technique when handling missing data. This task may include data visualization (Check this link : https://www.geeksforgeeks.org/top-8-python-libraries-for-data-visualization/).**"
   ]
  },
  {
   "cell_type": "markdown",
   "metadata": {},
   "source": [
    "The dataset that is used is from this link: https://www.kaggle.com/datasets/gauravtopre/credit-card-defaulter-prediction.\n",
    "\n",
    "Before I preprocessed the data, I removed the `ID` column as it is not relevant to the data. Then I proceeded to one hot encode the categorical variables to allow for logistic regression to use the features as numerical values. There were no missing values in the dataset so I did not need to clean the dataset. I split the data into training and testing data with a split of 80% training and 20% test. Then, I normalized the data such that the training data had 0 mean and std of 1. I saved these values and applied them to the test set. "
   ]
  },
  {
   "cell_type": "code",
   "execution_count": 16,
   "metadata": {},
   "outputs": [
    {
     "data": {
      "text/html": [
       "<div>\n",
       "<style scoped>\n",
       "    .dataframe tbody tr th:only-of-type {\n",
       "        vertical-align: middle;\n",
       "    }\n",
       "\n",
       "    .dataframe tbody tr th {\n",
       "        vertical-align: top;\n",
       "    }\n",
       "\n",
       "    .dataframe thead th {\n",
       "        text-align: right;\n",
       "    }\n",
       "</style>\n",
       "<table border=\"1\" class=\"dataframe\">\n",
       "  <thead>\n",
       "    <tr style=\"text-align: right;\">\n",
       "      <th></th>\n",
       "      <th>LIMIT_BAL</th>\n",
       "      <th>SEX</th>\n",
       "      <th>EDUCATION</th>\n",
       "      <th>MARRIAGE</th>\n",
       "      <th>AGE</th>\n",
       "      <th>PAY_0</th>\n",
       "      <th>PAY_2</th>\n",
       "      <th>PAY_3</th>\n",
       "      <th>PAY_4</th>\n",
       "      <th>PAY_5</th>\n",
       "      <th>...</th>\n",
       "      <th>BILL_AMT4</th>\n",
       "      <th>BILL_AMT5</th>\n",
       "      <th>BILL_AMT6</th>\n",
       "      <th>PAY_AMT1</th>\n",
       "      <th>PAY_AMT2</th>\n",
       "      <th>PAY_AMT3</th>\n",
       "      <th>PAY_AMT4</th>\n",
       "      <th>PAY_AMT5</th>\n",
       "      <th>PAY_AMT6</th>\n",
       "      <th>default</th>\n",
       "    </tr>\n",
       "  </thead>\n",
       "  <tbody>\n",
       "    <tr>\n",
       "      <th>0</th>\n",
       "      <td>20000</td>\n",
       "      <td>F</td>\n",
       "      <td>University</td>\n",
       "      <td>Married</td>\n",
       "      <td>24</td>\n",
       "      <td>2</td>\n",
       "      <td>2</td>\n",
       "      <td>-1</td>\n",
       "      <td>-1</td>\n",
       "      <td>-2</td>\n",
       "      <td>...</td>\n",
       "      <td>0</td>\n",
       "      <td>0</td>\n",
       "      <td>0</td>\n",
       "      <td>0</td>\n",
       "      <td>689</td>\n",
       "      <td>0</td>\n",
       "      <td>0</td>\n",
       "      <td>0</td>\n",
       "      <td>0</td>\n",
       "      <td>Y</td>\n",
       "    </tr>\n",
       "    <tr>\n",
       "      <th>1</th>\n",
       "      <td>120000</td>\n",
       "      <td>F</td>\n",
       "      <td>University</td>\n",
       "      <td>Single</td>\n",
       "      <td>26</td>\n",
       "      <td>-1</td>\n",
       "      <td>2</td>\n",
       "      <td>0</td>\n",
       "      <td>0</td>\n",
       "      <td>0</td>\n",
       "      <td>...</td>\n",
       "      <td>3272</td>\n",
       "      <td>3455</td>\n",
       "      <td>3261</td>\n",
       "      <td>0</td>\n",
       "      <td>1000</td>\n",
       "      <td>1000</td>\n",
       "      <td>1000</td>\n",
       "      <td>0</td>\n",
       "      <td>2000</td>\n",
       "      <td>Y</td>\n",
       "    </tr>\n",
       "    <tr>\n",
       "      <th>2</th>\n",
       "      <td>90000</td>\n",
       "      <td>F</td>\n",
       "      <td>University</td>\n",
       "      <td>Single</td>\n",
       "      <td>34</td>\n",
       "      <td>0</td>\n",
       "      <td>0</td>\n",
       "      <td>0</td>\n",
       "      <td>0</td>\n",
       "      <td>0</td>\n",
       "      <td>...</td>\n",
       "      <td>14331</td>\n",
       "      <td>14948</td>\n",
       "      <td>15549</td>\n",
       "      <td>1518</td>\n",
       "      <td>1500</td>\n",
       "      <td>1000</td>\n",
       "      <td>1000</td>\n",
       "      <td>1000</td>\n",
       "      <td>5000</td>\n",
       "      <td>N</td>\n",
       "    </tr>\n",
       "    <tr>\n",
       "      <th>3</th>\n",
       "      <td>50000</td>\n",
       "      <td>F</td>\n",
       "      <td>University</td>\n",
       "      <td>Married</td>\n",
       "      <td>37</td>\n",
       "      <td>0</td>\n",
       "      <td>0</td>\n",
       "      <td>0</td>\n",
       "      <td>0</td>\n",
       "      <td>0</td>\n",
       "      <td>...</td>\n",
       "      <td>28314</td>\n",
       "      <td>28959</td>\n",
       "      <td>29547</td>\n",
       "      <td>2000</td>\n",
       "      <td>2019</td>\n",
       "      <td>1200</td>\n",
       "      <td>1100</td>\n",
       "      <td>1069</td>\n",
       "      <td>1000</td>\n",
       "      <td>N</td>\n",
       "    </tr>\n",
       "    <tr>\n",
       "      <th>4</th>\n",
       "      <td>50000</td>\n",
       "      <td>M</td>\n",
       "      <td>University</td>\n",
       "      <td>Married</td>\n",
       "      <td>57</td>\n",
       "      <td>-1</td>\n",
       "      <td>0</td>\n",
       "      <td>-1</td>\n",
       "      <td>0</td>\n",
       "      <td>0</td>\n",
       "      <td>...</td>\n",
       "      <td>20940</td>\n",
       "      <td>19146</td>\n",
       "      <td>19131</td>\n",
       "      <td>2000</td>\n",
       "      <td>36681</td>\n",
       "      <td>10000</td>\n",
       "      <td>9000</td>\n",
       "      <td>689</td>\n",
       "      <td>679</td>\n",
       "      <td>N</td>\n",
       "    </tr>\n",
       "  </tbody>\n",
       "</table>\n",
       "<p>5 rows × 24 columns</p>\n",
       "</div>"
      ],
      "text/plain": [
       "   LIMIT_BAL SEX   EDUCATION MARRIAGE  AGE  PAY_0  PAY_2  PAY_3  PAY_4  PAY_5  \\\n",
       "0      20000   F  University  Married   24      2      2     -1     -1     -2   \n",
       "1     120000   F  University   Single   26     -1      2      0      0      0   \n",
       "2      90000   F  University   Single   34      0      0      0      0      0   \n",
       "3      50000   F  University  Married   37      0      0      0      0      0   \n",
       "4      50000   M  University  Married   57     -1      0     -1      0      0   \n",
       "\n",
       "   ...  BILL_AMT4  BILL_AMT5  BILL_AMT6  PAY_AMT1  PAY_AMT2  PAY_AMT3  \\\n",
       "0  ...          0          0          0         0       689         0   \n",
       "1  ...       3272       3455       3261         0      1000      1000   \n",
       "2  ...      14331      14948      15549      1518      1500      1000   \n",
       "3  ...      28314      28959      29547      2000      2019      1200   \n",
       "4  ...      20940      19146      19131      2000     36681     10000   \n",
       "\n",
       "   PAY_AMT4  PAY_AMT5  PAY_AMT6  default   \n",
       "0         0         0         0         Y  \n",
       "1      1000         0      2000         Y  \n",
       "2      1000      1000      5000         N  \n",
       "3      1100      1069      1000         N  \n",
       "4      9000       689       679         N  \n",
       "\n",
       "[5 rows x 24 columns]"
      ]
     },
     "execution_count": 16,
     "metadata": {},
     "output_type": "execute_result"
    }
   ],
   "source": [
    "import os \n",
    "import pandas as pd\n",
    "\n",
    "folder_name = \"./credit-card-defaulter-prediction\"\n",
    "file_name = \"Credit Card Defaulter Prediction.csv\"\n",
    "\n",
    "\n",
    "if not os.path.exists(folder_name):\n",
    "    import opendatasets as od\n",
    "    # download the data\n",
    "    dataset_link = \"https://www.kaggle.com/datasets/gauravtopre/credit-card-defaulter-prediction\"\n",
    "    od.download(dataset_link)\n",
    "\n",
    "data = pd.read_csv(os.path.join(folder_name, file_name))\n",
    "data = data.drop('ID', axis=1)\n",
    "data.head()"
   ]
  },
  {
   "cell_type": "code",
   "execution_count": 17,
   "metadata": {},
   "outputs": [],
   "source": [
    "import numpy as np\n",
    "from sklearn.preprocessing import OneHotEncoder\n",
    "\n",
    "one_hot_labels =  ['EDUCATION', 'MARRIAGE', 'SEX'] + ['PAY_{}'.format(x) for x in [0,2,3,4,6]] + ['default ']\n",
    "y_label = 'default '\n",
    "\n",
    "train_proportion = 0.8\n",
    "cutoff = int(len(data) * train_proportion)\n",
    "\n",
    "\n",
    "# one hot encode the categorical variables\n",
    "def get_mapping(column):\n",
    "    unique_matches = set()\n",
    "\n",
    "    for item in column:\n",
    "        unique_matches.add(item)\n",
    "\n",
    "    mapping = {}\n",
    "    for i, item in enumerate(unique_matches):\n",
    "        mapping[item] = i\n",
    "\n",
    "    return mapping\n",
    "    \n",
    "def transform(mapping, column):\n",
    "    out = np.zeros((len(mapping), len(column)), dtype=np.float32)\n",
    "    for i, item in enumerate(column):\n",
    "        out[mapping[item]][i] = 1.0\n",
    "\n",
    "    return out\n",
    "\n",
    "for label in one_hot_labels:\n",
    "    column = data.loc[:,label]\n",
    "    data = data.drop(label, axis=1)\n",
    "    mapping = get_mapping(column)\n",
    "    new_labels = ['{}_{}'.format(label, index) for index in range(len(mapping))]\n",
    "    for label, encoding in zip(new_labels, transform(mapping, column)):\n",
    "        data[label] = encoding\n",
    "\n",
    "# randomly separate testing / training data\n",
    "numeric_data = data.to_numpy()\n",
    "np.random.shuffle(numeric_data)\n",
    "train_data_x = numeric_data[0:cutoff,:-1]\n",
    "train_data_y = numeric_data[0:cutoff,-1]\n",
    "test_data_x = numeric_data[cutoff:,:-1]\n",
    "test_data_y = numeric_data[cutoff:,-1]\n",
    "\n",
    "# -- normalize the data --\n",
    "mean = np.mean(train_data_x, axis=0)\n",
    "std = np.std(train_data_x, axis=0)\n",
    "\n",
    "train_data = np.divide(train_data_x - mean, std), train_data_y\n",
    "test_data = np.divide(test_data_x - mean, std), test_data_y"
   ]
  },
  {
   "cell_type": "markdown",
   "metadata": {},
   "source": [
    "### Task 3\n",
    "\n",
    "**Implement, Logistic Regression in this step. Clearly write your cost function and derivatives before implementing gradient descent. Do not use any built-in packages for this step. You can use the vectorization techniques demonstrated in class. Implement any 2 variants of gradient descent in their original form. (Refer to the research paper discussed in class).**"
   ]
  },
  {
   "cell_type": "code",
   "execution_count": 18,
   "metadata": {},
   "outputs": [],
   "source": [
    "from tqdm import tqdm\n",
    "import matplotlib.pyplot as plt\n",
    "\n",
    "def sigmoid(x):\n",
    "    return 1 / (1 + np.exp(-x))\n",
    "\n",
    "class LogisticRegressionModel:\n",
    "    def __init__(self, cost_fn, input_features):\n",
    "        self.cost_fn = cost_fn\n",
    "        self.weights = np.zeros((input_features, 1))\n",
    "        self.bias = np.zeros((1,))\n",
    "\n",
    "    def _calculate_gradient(self, X, Y_hat, Y):\n",
    "        return (\n",
    "            np.dot(X.T, (Y_hat-Y).T) / Y.shape[0], \n",
    "            np.sum(Y_hat-Y) / Y.shape[0]\n",
    "        )\n",
    "\n",
    "    def forward(self, X):\n",
    "        return sigmoid(np.dot(self.weights.T, X.T) + self.bias)\n",
    "\n",
    "    def gradient_update(self, learning_rate, X, Y_hat, Y):\n",
    "        dw, db = self._calculate_gradient(X, Y_hat, Y)\n",
    "\n",
    "        self.weights -= dw * learning_rate\n",
    "        self.bias -= db * learning_rate\n",
    "\n",
    "    def _calculate_loss(self, Y_hat, Y):\n",
    "        return self.cost_fn(Y_hat, Y)\n",
    "\n",
    "    def evaluate(self, dataset):\n",
    "        X, Y = dataset\n",
    "        Y_hat = self.forward(X)\n",
    "        return self._calculate_loss(Y_hat, Y)\n",
    "\n",
    "def cost_fn(Y_hat, Y):\n",
    "    assert Y_hat.flatten().shape == Y.flatten().shape\n",
    "    return (\n",
    "        -1 / Y_hat.shape[0] \n",
    "        * np.sum(Y * np.log(Y_hat) \n",
    "        + (1 - Y) * (np.log(1 - Y_hat)))\n",
    "    )\n",
    "    \n",
    "def fit_sgd(dataset_train, dataset_test, epochs, learning_rate, input_features):\n",
    "    model = LogisticRegressionModel(cost_fn=cost_fn, input_features=input_features)\n",
    "    X_train, Y_train = dataset_train\n",
    "\n",
    "    history = []\n",
    "\n",
    "    for _ in tqdm(range(epochs)):\n",
    "        for i in range(len(X_train)):\n",
    "            X = np.array([X_train[i]])\n",
    "            Y = np.array([Y_train[i]])\n",
    "            Y_hat = model.forward(X)\n",
    "            model.gradient_update(learning_rate, X, Y_hat, Y)\n",
    "\n",
    "        history.append(model.evaluate(dataset_test))\n",
    "\n",
    "    return history, model.evaluate(dataset_test)\n",
    "\n",
    "\n",
    "\n",
    "def fit_batched(dataset_train, dataset_test, epochs, learning_rate, input_features):\n",
    "    model = LogisticRegressionModel(cost_fn=cost_fn, input_features=input_features)\n",
    "    X, Y = dataset_train\n",
    "\n",
    "    history = []\n",
    "\n",
    "    for _ in tqdm(range(epochs)):\n",
    "        Y_hat = model.forward(X)\n",
    "        model.gradient_update(learning_rate, X, Y_hat, Y)\n",
    "\n",
    "        history.append(model.evaluate(dataset_test))\n",
    "\n",
    "    return history, model.evaluate(dataset_test)\n"
   ]
  },
  {
   "cell_type": "code",
   "execution_count": 19,
   "metadata": {},
   "outputs": [
    {
     "name": "stderr",
     "output_type": "stream",
     "text": [
      "100%|██████████| 5000/5000 [00:07<00:00, 679.39it/s]\n"
     ]
    },
    {
     "name": "stdout",
     "output_type": "stream",
     "text": [
      "12.121797580377013\n"
     ]
    },
    {
     "data": {
      "text/plain": [
       "[<matplotlib.lines.Line2D at 0x7f9dbf7decd0>]"
      ]
     },
     "execution_count": 19,
     "metadata": {},
     "output_type": "execute_result"
    },
    {
     "data": {
      "image/png": "[encoded data removed]",
      "text/plain": [
       "<Figure size 432x288 with 1 Axes>"
      ]
     },
     "metadata": {
      "needs_background": "light"
     },
     "output_type": "display_data"
    }
   ],
   "source": [
    "epochs = 5000\n",
    "history, loss = fit_batched(train_data, test_data, epochs, 1E-1, train_data[0].shape[1])\n",
    "\n",
    "print(loss)\n",
    "plt.plot(range(epochs), history)"
   ]
  },
  {
   "cell_type": "code",
   "execution_count": 20,
   "metadata": {},
   "outputs": [
    {
     "name": "stderr",
     "output_type": "stream",
     "text": [
      "100%|██████████| 30/30 [00:26<00:00,  1.15it/s]"
     ]
    },
    {
     "name": "stdout",
     "output_type": "stream",
     "text": [
      "8.887534700514072\n"
     ]
    },
    {
     "name": "stderr",
     "output_type": "stream",
     "text": [
      "\n"
     ]
    },
    {
     "data": {
      "text/plain": [
       "[<matplotlib.lines.Line2D at 0x7f9dbdb99e50>]"
      ]
     },
     "execution_count": 20,
     "metadata": {},
     "output_type": "execute_result"
    },
    {
     "data": {
      "image/png": "[encoded data removed]",
      "text/plain": [
       "<Figure size 432x288 with 1 Axes>"
      ]
     },
     "metadata": {
      "needs_background": "light"
     },
     "output_type": "display_data"
    }
   ],
   "source": [
    "epochs = 30\n",
    "history, loss = fit_sgd(train_data, test_data, epochs, 1E-3, train_data[0].shape[1])\n",
    "\n",
    "print(loss)\n",
    "plt.plot(range(epochs), history)"
   ]
  },
  {
   "cell_type": "markdown",
   "metadata": {},
   "source": [
    "### Task 4\n",
    "\n",
    "**Pick any 2 optimization algorithms that are used to optimize the ‘vanilla’ gradient descent. Implement both. You may implement these algorithms yourself OR use a package. In your conclusion, compare both optimization techniques/algorithms with respect to the results you achieve. Also \n",
    "compare these results with the original implementation of gradient descent (Task 3 above). Describe why or why not should we use optimization algorithms for the task at hand.**"
   ]
  },
  {
   "cell_type": "markdown",
   "metadata": {},
   "source": [
    "The results for the optimizers seems to slightly outperform the the standard gradient decent algorithm. However, in training the models the ones with optimizers seem to be more resilient to small hyperparameter changes. For example, in the SGD optimization for task 3 a learning rate of >=1E-2 would result in a exploding gradient. However, to achieve the results the batched gradient decent seemed to be the fastest method to converge to comperable results with the rest of the models (8 seconds). "
   ]
  },
  {
   "cell_type": "code",
   "execution_count": 55,
   "metadata": {},
   "outputs": [],
   "source": [
    "import tensorflow as tf\n",
    "from tensorflow.keras import Sequential\n",
    "from tensorflow.keras.layers import Dense\n",
    "from tensorflow.keras.optimizers import Adam, RMSprop\n",
    "\n",
    "def get_model(dataset, optimizer):\n",
    "    model = tf.keras.Sequential([\n",
    "        Dense(1, input_shape=(dataset.shape[1],), activation='sigmoid')\n",
    "    ])\n",
    "\n",
    "    model.compile(loss='binary_crossentropy', optimizer=optimizer)\n",
    "    return model\n",
    "\n",
    "\n",
    "\n",
    "model_adam = get_model(train_data[0], Adam(learning_rate=1E4))\n",
    "model_rms = get_model(train_data[0], RMSprop(learning_rate=1E4))"
   ]
  },
  {
   "cell_type": "code",
   "execution_count": 53,
   "metadata": {},
   "outputs": [
    {
     "name": "stdout",
     "output_type": "stream",
     "text": [
      "Train on 24000 samples, validate on 6000 samples\n",
      "Epoch 1/30\n",
      "24000/24000 [==============================] - 2s 100us/sample - loss: 14535.8306 - val_loss: 7914.9377\n",
      "Epoch 2/30\n",
      "24000/24000 [==============================] - 1s 52us/sample - loss: 5030.1555 - val_loss: 2533.9880\n",
      "Epoch 3/30\n",
      "24000/24000 [==============================] - 3s 108us/sample - loss: 2214.8532 - val_loss: 1835.5588\n",
      "Epoch 4/30\n",
      "24000/24000 [==============================] - 2s 71us/sample - loss: 1725.3165 - val_loss: 1465.0818\n",
      "Epoch 5/30\n",
      "24000/24000 [==============================] - 1s 50us/sample - loss: 1400.3673 - val_loss: 1197.8580\n",
      "Epoch 6/30\n",
      "24000/24000 [==============================] - 1s 47us/sample - loss: 1136.5743 - val_loss: 974.8214\n",
      "Epoch 7/30\n",
      "24000/24000 [==============================] - 1s 51us/sample - loss: 909.1082 - val_loss: 783.5745\n",
      "Epoch 8/30\n",
      "24000/24000 [==============================] - 1s 47us/sample - loss: 723.2540 - val_loss: 633.4319\n",
      "Epoch 9/30\n",
      "24000/24000 [==============================] - 1s 48us/sample - loss: 586.1209 - val_loss: 516.1235\n",
      "Epoch 10/30\n",
      "24000/24000 [==============================] - 1s 53us/sample - loss: 471.7656 - val_loss: 405.9686\n",
      "Epoch 11/30\n",
      "24000/24000 [==============================] - 1s 54us/sample - loss: 360.6562 - val_loss: 300.2993\n",
      "Epoch 12/30\n",
      "24000/24000 [==============================] - 1s 55us/sample - loss: 253.8443 - val_loss: 199.8890\n",
      "Epoch 13/30\n",
      "24000/24000 [==============================] - 1s 53us/sample - loss: 152.7594 - val_loss: 108.1034\n",
      "Epoch 14/30\n",
      "24000/24000 [==============================] - 1s 55us/sample - loss: 61.8172 - val_loss: 20.1992\n",
      "Epoch 15/30\n",
      "24000/24000 [==============================] - 1s 52us/sample - loss: 10.3363 - val_loss: 3.6771\n",
      "Epoch 16/30\n",
      "24000/24000 [==============================] - 1s 49us/sample - loss: 5.6589 - val_loss: 2.2821\n",
      "Epoch 17/30\n",
      "24000/24000 [==============================] - 1s 51us/sample - loss: 5.2295 - val_loss: 1.8359\n",
      "Epoch 18/30\n",
      "24000/24000 [==============================] - 2s 63us/sample - loss: 5.4734 - val_loss: 2.9842\n",
      "Epoch 19/30\n",
      "24000/24000 [==============================] - 2s 65us/sample - loss: 4.4451 - val_loss: 3.2303\n",
      "Epoch 20/30\n",
      "24000/24000 [==============================] - 1s 50us/sample - loss: 4.5470 - val_loss: 4.2879\n",
      "Epoch 21/30\n",
      "24000/24000 [==============================] - 1s 47us/sample - loss: 4.6833 - val_loss: 9.1452\n",
      "Epoch 22/30\n",
      "24000/24000 [==============================] - 1s 54us/sample - loss: 4.5192 - val_loss: 13.6041\n",
      "Epoch 23/30\n",
      "24000/24000 [==============================] - 1s 50us/sample - loss: 4.3202 - val_loss: 1.9211\n",
      "Epoch 24/30\n",
      "24000/24000 [==============================] - 1s 61us/sample - loss: 3.9290 - val_loss: 8.3484\n",
      "Epoch 25/30\n",
      "24000/24000 [==============================] - 1s 49us/sample - loss: 4.3856 - val_loss: 3.1904\n",
      "Epoch 26/30\n",
      "24000/24000 [==============================] - 1s 51us/sample - loss: 4.0496 - val_loss: 1.4137\n",
      "Epoch 27/30\n",
      "24000/24000 [==============================] - 1s 48us/sample - loss: 4.4622 - val_loss: 7.3952\n",
      "Epoch 28/30\n",
      "24000/24000 [==============================] - 1s 51us/sample - loss: 4.6000 - val_loss: 4.6493\n",
      "Epoch 29/30\n",
      "24000/24000 [==============================] - 1s 50us/sample - loss: 3.8335 - val_loss: 20.4737\n",
      "Epoch 30/30\n",
      "24000/24000 [==============================] - 1s 47us/sample - loss: 5.3282 - val_loss: 6.1847\n"
     ]
    },
    {
     "data": {
      "text/plain": [
       "<tensorflow.python.keras.callbacks.History at 0x7f8a8c729450>"
      ]
     },
     "execution_count": 53,
     "metadata": {},
     "output_type": "execute_result"
    }
   ],
   "source": [
    "model_adam.fit(x=train_data[0], y=train_data[1], epochs=30, batch_size=32, validation_data=test_data)"
   ]
  },
  {
   "cell_type": "code",
   "execution_count": 56,
   "metadata": {},
   "outputs": [
    {
     "name": "stdout",
     "output_type": "stream",
     "text": [
      "Train on 24000 samples, validate on 6000 samples\n",
      "Epoch 1/30\n",
      "24000/24000 [==============================] - 6s 254us/sample - loss: 15277.8948 - val_loss: 9093.1571\n",
      "Epoch 2/30\n",
      "24000/24000 [==============================] - 3s 127us/sample - loss: 6113.3312 - val_loss: 3568.5807\n",
      "Epoch 3/30\n",
      "24000/24000 [==============================] - 2s 104us/sample - loss: 3124.5484 - val_loss: 2569.9029\n",
      "Epoch 4/30\n",
      "24000/24000 [==============================] - 2s 63us/sample - loss: 2269.9909 - val_loss: 1858.7221\n",
      "Epoch 5/30\n",
      "24000/24000 [==============================] - 1s 61us/sample - loss: 1699.9077 - val_loss: 1418.1838\n",
      "Epoch 6/30\n",
      "24000/24000 [==============================] - 1s 59us/sample - loss: 1361.3401 - val_loss: 1161.3027\n",
      "Epoch 7/30\n",
      "24000/24000 [==============================] - 1s 60us/sample - loss: 1165.8984 - val_loss: 1001.3409\n",
      "Epoch 8/30\n",
      "24000/24000 [==============================] - 1s 54us/sample - loss: 1024.6627 - val_loss: 873.5212\n",
      "Epoch 9/30\n",
      "24000/24000 [==============================] - 2s 89us/sample - loss: 907.6539 - val_loss: 777.6161\n",
      "Epoch 10/30\n",
      "24000/24000 [==============================] - 2s 70us/sample - loss: 812.2043 - val_loss: 693.7847\n",
      "Epoch 11/30\n",
      "24000/24000 [==============================] - 2s 97us/sample - loss: 728.2486 - val_loss: 617.9543\n",
      "Epoch 12/30\n",
      "24000/24000 [==============================] - 2s 63us/sample - loss: 652.8267 - val_loss: 553.0243\n",
      "Epoch 13/30\n",
      "24000/24000 [==============================] - 2s 65us/sample - loss: 582.9998 - val_loss: 490.7914\n",
      "Epoch 14/30\n",
      "24000/24000 [==============================] - 1s 61us/sample - loss: 521.3020 - val_loss: 438.4766\n",
      "Epoch 15/30\n",
      "24000/24000 [==============================] - 2s 83us/sample - loss: 463.4822 - val_loss: 395.0399\n",
      "Epoch 16/30\n",
      "24000/24000 [==============================] - 2s 96us/sample - loss: 410.7472 - val_loss: 341.6255\n",
      "Epoch 17/30\n",
      "24000/24000 [==============================] - 2s 91us/sample - loss: 359.3153 - val_loss: 296.1586\n",
      "Epoch 18/30\n",
      "24000/24000 [==============================] - 2s 68us/sample - loss: 311.0000 - val_loss: 255.3748\n",
      "Epoch 19/30\n",
      "24000/24000 [==============================] - 1s 61us/sample - loss: 263.6148 - val_loss: 214.5317\n",
      "Epoch 20/30\n",
      "24000/24000 [==============================] - 2s 67us/sample - loss: 217.4348 - val_loss: 175.0153\n",
      "Epoch 21/30\n",
      "24000/24000 [==============================] - 2s 92us/sample - loss: 173.8709 - val_loss: 138.6277\n",
      "Epoch 22/30\n",
      "24000/24000 [==============================] - 2s 69us/sample - loss: 132.5987 - val_loss: 95.0890\n",
      "Epoch 23/30\n",
      "24000/24000 [==============================] - 2s 82us/sample - loss: 93.4571 - val_loss: 80.3068\n",
      "Epoch 24/30\n",
      "24000/24000 [==============================] - 4s 168us/sample - loss: 57.9181 - val_loss: 32.4277\n",
      "Epoch 25/30\n",
      "24000/24000 [==============================] - 2s 64us/sample - loss: 28.8744 - val_loss: 6.5183\n",
      "Epoch 26/30\n",
      "24000/24000 [==============================] - 1s 59us/sample - loss: 17.0431 - val_loss: 14.3937\n",
      "Epoch 27/30\n",
      "24000/24000 [==============================] - 1s 59us/sample - loss: 16.6458 - val_loss: 11.6220\n",
      "Epoch 28/30\n",
      "24000/24000 [==============================] - 2s 85us/sample - loss: 16.6796 - val_loss: 26.6044\n",
      "Epoch 29/30\n",
      "24000/24000 [==============================] - 3s 130us/sample - loss: 16.9000 - val_loss: 6.5237\n",
      "Epoch 30/30\n",
      "24000/24000 [==============================] - 1s 57us/sample - loss: 16.7307 - val_loss: 44.9626\n"
     ]
    },
    {
     "data": {
      "text/plain": [
       "<tensorflow.python.keras.callbacks.History at 0x7f8a371641d0>"
      ]
     },
     "execution_count": 56,
     "metadata": {},
     "output_type": "execute_result"
    }
   ],
   "source": [
    "model_rms.fit(x=train_data[0], y=train_data[1], epochs=30, batch_size=32, validation_data=test_data)"
   ]
  },
  {
   "cell_type": "markdown",
   "metadata": {},
   "source": [
    "# HW 2"
   ]
  },
  {
   "cell_type": "code",
   "execution_count": 35,
   "metadata": {},
   "outputs": [],
   "source": [
    "from sklearn import tree\n",
    "from sklearn.metrics import accuracy_score"
   ]
  },
  {
   "cell_type": "code",
   "execution_count": 36,
   "metadata": {},
   "outputs": [
    {
     "name": "stdout",
     "output_type": "stream",
     "text": [
      "train 1.0\n",
      "test 1.0\n"
     ]
    }
   ],
   "source": [
    "dt = tree.DecisionTreeClassifier()\n",
    "\n",
    "dt.fit(train_data[0], train_data[1])\n",
    "print(\"train\", accuracy_score(train_data[1], dt.predict(train_data[0])))\n",
    "print(\"test\", accuracy_score(test_data[1], dt.predict(test_data[0])))\n"
   ]
  },
  {
   "cell_type": "markdown",
   "metadata": {},
   "source": [
    "Unfortunatly, the decision tree classifier is already at 100% accuracy so we cannot see how changing the parameters aid in overfitting or how we can improve the variance. We can change the parameters to make the model worse. The only parameter that I could change that affects either of the accuracies was the max_features. The reason this affects the accuracy is quite intuitive as we are simply reducing `max_features` to 1 which reduces the available information to the model. It is therefore not able to find a pattern to the data. It Looks from the results below that the variance increased as the test accuracy by doing this but more likely the bias increased and we are unable to see the effect of that as the accuracy is too high to see an effect. We cannot know for sure though unless we chose a different dataset. "
   ]
  },
  {
   "cell_type": "code",
   "execution_count": 38,
   "metadata": {},
   "outputs": [
    {
     "name": "stdout",
     "output_type": "stream",
     "text": [
      "train 1.0\n",
      "test 0.8411666666666666\n"
     ]
    }
   ],
   "source": [
    "dt = tree.DecisionTreeClassifier(max_features=1)\n",
    "\n",
    "dt.fit(train_data[0], train_data[1])\n",
    "\n",
    "print(\"train\", accuracy_score(train_data[1], dt.predict(train_data[0])))\n",
    "print(\"test\", accuracy_score(test_data[1], dt.predict(test_data[0])))\n"
   ]
  },
  {
   "cell_type": "code",
   "execution_count": null,
   "metadata": {},
   "outputs": [],
   "source": []
  },
  {
   "cell_type": "code",
   "execution_count": null,
   "metadata": {},
   "outputs": [],
   "source": []
  }
 ],
 "metadata": {
  "kernelspec": {
   "display_name": "Python 3.7.11 ('python-chess-lib')",
   "language": "python",
   "name": "python3"
  },
  "language_info": {
   "codemirror_mode": {
    "name": "ipython",
    "version": 3
   },
   "file_extension": ".py",
   "mimetype": "text/x-python",
   "name": "python",
   "nbconvert_exporter": "python",
   "pygments_lexer": "ipython3",
   "version": "3.7.11"
  },
  "orig_nbformat": 4,
  "vscode": {
   "interpreter": {
    "hash": "946d23f443fb1dfa39329254e79dc1d17639e1dd0ec90f8c9f5045c0d1ab1f3a"
   }
  }
 },
 "nbformat": 4,
 "nbformat_minor": 2
}
